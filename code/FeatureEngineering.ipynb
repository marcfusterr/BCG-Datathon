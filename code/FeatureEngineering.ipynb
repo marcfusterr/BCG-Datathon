{
 "cells": [
  {
   "cell_type": "code",
   "execution_count": 859,
   "metadata": {},
   "outputs": [
    {
     "name": "stdout",
     "output_type": "stream",
     "text": [
      "Once deleted, variables cannot be recovered. Proceed (y/[n])? y\n"
     ]
    }
   ],
   "source": [
    "%reset"
   ]
  },
  {
   "cell_type": "code",
   "execution_count": 860,
   "metadata": {},
   "outputs": [],
   "source": [
    "# We start loading some of the libraries that we might use later\n",
    "import pandas as pd\n",
    "import numpy as np\n",
    "%matplotlib inline\n",
    "from scipy import stats\n",
    "import matplotlib.pyplot as plt\n",
    "import numpy as np\n",
    "from sklearn.model_selection import train_test_split\n",
    "from sklearn.neighbors import KNeighborsClassifier\n",
    "import time\n",
    "from sklearn.linear_model import LinearRegression\n",
    "from sklearn.linear_model import Ridge\n",
    "from sklearn.preprocessing import MinMaxScaler\n",
    "from sklearn.linear_model import Lasso\n",
    "import seaborn as sns\n",
    "from sklearn.preprocessing import PolynomialFeatures\n",
    "from sklearn.svm import SVC\n",
    "from sklearn.svm import LinearSVC\n",
    "from sklearn.tree import DecisionTreeClassifier\n",
    "from sklearn.svm import SVR\n",
    "from sklearn.dummy import DummyRegressor\n",
    "import warnings\n",
    "warnings.filterwarnings('ignore')\n",
    "from scipy.stats.mstats import winsorize\n",
    "import scipy.stats"
   ]
  },
  {
   "cell_type": "markdown",
   "metadata": {},
   "source": [
    "# Exploratory Data Analysis"
   ]
  },
  {
   "cell_type": "code",
   "execution_count": 861,
   "metadata": {},
   "outputs": [],
   "source": [
    "test_data_v2=pd.read_csv('ml_case_test_data_v2.csv')\n",
    "test_hist=pd.read_csv('ml_case_test_hist_data.csv')\n",
    "training=pd.read_csv('ml_case_training_data_v2.csv')\n",
    "output=pd.read_csv('ml_case_training_output.csv')\n",
    "full=pd.read_csv('full_dataset.csv',sep=';')"
   ]
  },
  {
   "cell_type": "code",
   "execution_count": 862,
   "metadata": {},
   "outputs": [
    {
     "name": "stdout",
     "output_type": "stream",
     "text": [
      "(4016, 35)\n"
     ]
    },
    {
     "data": {
      "text/html": [
       "<div>\n",
       "<style scoped>\n",
       "    .dataframe tbody tr th:only-of-type {\n",
       "        vertical-align: middle;\n",
       "    }\n",
       "\n",
       "    .dataframe tbody tr th {\n",
       "        vertical-align: top;\n",
       "    }\n",
       "\n",
       "    .dataframe thead th {\n",
       "        text-align: right;\n",
       "    }\n",
       "</style>\n",
       "<table border=\"1\" class=\"dataframe\">\n",
       "  <thead>\n",
       "    <tr style=\"text-align: right;\">\n",
       "      <th></th>\n",
       "      <th>Unnamed: 0</th>\n",
       "      <th>id</th>\n",
       "      <th>campaign_disc_ele</th>\n",
       "      <th>channel_sales</th>\n",
       "      <th>cons_12m</th>\n",
       "      <th>cons_gas_12m</th>\n",
       "      <th>cons_last_month</th>\n",
       "      <th>date_activ</th>\n",
       "      <th>date_end</th>\n",
       "      <th>date_first_activ</th>\n",
       "      <th>...</th>\n",
       "      <th>margin_gross_pow_ele</th>\n",
       "      <th>margin_net_pow_ele</th>\n",
       "      <th>nb_prod_act</th>\n",
       "      <th>net_margin</th>\n",
       "      <th>num_years_antig</th>\n",
       "      <th>origin_up</th>\n",
       "      <th>pow_max</th>\n",
       "      <th>isic_1l</th>\n",
       "      <th>isic_2l</th>\n",
       "      <th>zip</th>\n",
       "    </tr>\n",
       "  </thead>\n",
       "  <tbody>\n",
       "    <tr>\n",
       "      <th>0</th>\n",
       "      <td>9</td>\n",
       "      <td>f5ce04411fcb8ea5fbdcc515d818ea01</td>\n",
       "      <td>NaN</td>\n",
       "      <td>lmkebamcaaclubfxadlmueccxoimlema</td>\n",
       "      <td>143112</td>\n",
       "      <td>0</td>\n",
       "      <td>0</td>\n",
       "      <td>2012-04-24</td>\n",
       "      <td>2016-04-24</td>\n",
       "      <td>NaN</td>\n",
       "      <td>...</td>\n",
       "      <td>19.28</td>\n",
       "      <td>19.28</td>\n",
       "      <td>1</td>\n",
       "      <td>1795.34</td>\n",
       "      <td>4</td>\n",
       "      <td>ldkssxwpmemidmecebumciepifcamkci</td>\n",
       "      <td>10.392</td>\n",
       "      <td>Q</td>\n",
       "      <td>87</td>\n",
       "      <td>31395</td>\n",
       "    </tr>\n",
       "    <tr>\n",
       "      <th>1</th>\n",
       "      <td>10</td>\n",
       "      <td>cb3f6adabceb7ea2d6042e85113d6675</td>\n",
       "      <td>NaN</td>\n",
       "      <td>NaN</td>\n",
       "      <td>12565</td>\n",
       "      <td>6157</td>\n",
       "      <td>571</td>\n",
       "      <td>2009-09-28</td>\n",
       "      <td>2016-09-28</td>\n",
       "      <td>NaN</td>\n",
       "      <td>...</td>\n",
       "      <td>8.98</td>\n",
       "      <td>8.98</td>\n",
       "      <td>3</td>\n",
       "      <td>77.27</td>\n",
       "      <td>6</td>\n",
       "      <td>kamkkxfxxuwbdslkwifmmcsiusiuosws</td>\n",
       "      <td>10.392</td>\n",
       "      <td>G</td>\n",
       "      <td>47</td>\n",
       "      <td>31395</td>\n",
       "    </tr>\n",
       "    <tr>\n",
       "      <th>2</th>\n",
       "      <td>15</td>\n",
       "      <td>af0865bfba4e9bd4a60b5a45643109ba</td>\n",
       "      <td>NaN</td>\n",
       "      <td>foosdfpfkusacimwkcsosbicdxkicaua</td>\n",
       "      <td>5640</td>\n",
       "      <td>106717</td>\n",
       "      <td>0</td>\n",
       "      <td>2009-11-24</td>\n",
       "      <td>2016-11-24</td>\n",
       "      <td>NaN</td>\n",
       "      <td>...</td>\n",
       "      <td>21.78</td>\n",
       "      <td>21.78</td>\n",
       "      <td>2</td>\n",
       "      <td>82.60</td>\n",
       "      <td>6</td>\n",
       "      <td>kamkkxfxxuwbdslkwifmmcsiusiuosws</td>\n",
       "      <td>13.200</td>\n",
       "      <td>M</td>\n",
       "      <td>72</td>\n",
       "      <td>50316</td>\n",
       "    </tr>\n",
       "    <tr>\n",
       "      <th>3</th>\n",
       "      <td>26</td>\n",
       "      <td>2623687b9b38dd32aabbefdd0e950f30</td>\n",
       "      <td>NaN</td>\n",
       "      <td>foosdfpfkusacimwkcsosbicdxkicaua</td>\n",
       "      <td>48864</td>\n",
       "      <td>0</td>\n",
       "      <td>3190</td>\n",
       "      <td>2012-01-04</td>\n",
       "      <td>2017-01-04</td>\n",
       "      <td>NaN</td>\n",
       "      <td>...</td>\n",
       "      <td>51.84</td>\n",
       "      <td>51.84</td>\n",
       "      <td>1</td>\n",
       "      <td>449.03</td>\n",
       "      <td>4</td>\n",
       "      <td>lxidpiddsbxsbosboudacockeimpuepw</td>\n",
       "      <td>34.641</td>\n",
       "      <td>F</td>\n",
       "      <td>41</td>\n",
       "      <td>15325</td>\n",
       "    </tr>\n",
       "    <tr>\n",
       "      <th>4</th>\n",
       "      <td>39</td>\n",
       "      <td>ea33a17335d0ef40b27c663dd568d210</td>\n",
       "      <td>NaN</td>\n",
       "      <td>NaN</td>\n",
       "      <td>13087</td>\n",
       "      <td>0</td>\n",
       "      <td>1043</td>\n",
       "      <td>2008-01-29</td>\n",
       "      <td>2016-01-29</td>\n",
       "      <td>NaN</td>\n",
       "      <td>...</td>\n",
       "      <td>34.44</td>\n",
       "      <td>34.44</td>\n",
       "      <td>1</td>\n",
       "      <td>146.00</td>\n",
       "      <td>8</td>\n",
       "      <td>ldkssxwpmemidmecebumciepifcamkci</td>\n",
       "      <td>17.240</td>\n",
       "      <td>C</td>\n",
       "      <td>25</td>\n",
       "      <td>20749</td>\n",
       "    </tr>\n",
       "  </tbody>\n",
       "</table>\n",
       "<p>5 rows × 35 columns</p>\n",
       "</div>"
      ],
      "text/plain": [
       "   Unnamed: 0                                id  campaign_disc_ele  \\\n",
       "0           9  f5ce04411fcb8ea5fbdcc515d818ea01                NaN   \n",
       "1          10  cb3f6adabceb7ea2d6042e85113d6675                NaN   \n",
       "2          15  af0865bfba4e9bd4a60b5a45643109ba                NaN   \n",
       "3          26  2623687b9b38dd32aabbefdd0e950f30                NaN   \n",
       "4          39  ea33a17335d0ef40b27c663dd568d210                NaN   \n",
       "\n",
       "                      channel_sales  cons_12m  cons_gas_12m  cons_last_month  \\\n",
       "0  lmkebamcaaclubfxadlmueccxoimlema    143112             0                0   \n",
       "1                               NaN     12565          6157              571   \n",
       "2  foosdfpfkusacimwkcsosbicdxkicaua      5640        106717                0   \n",
       "3  foosdfpfkusacimwkcsosbicdxkicaua     48864             0             3190   \n",
       "4                               NaN     13087             0             1043   \n",
       "\n",
       "   date_activ    date_end date_first_activ  ...   margin_gross_pow_ele  \\\n",
       "0  2012-04-24  2016-04-24              NaN  ...                  19.28   \n",
       "1  2009-09-28  2016-09-28              NaN  ...                   8.98   \n",
       "2  2009-11-24  2016-11-24              NaN  ...                  21.78   \n",
       "3  2012-01-04  2017-01-04              NaN  ...                  51.84   \n",
       "4  2008-01-29  2016-01-29              NaN  ...                  34.44   \n",
       "\n",
       "  margin_net_pow_ele  nb_prod_act  net_margin  num_years_antig  \\\n",
       "0              19.28            1     1795.34                4   \n",
       "1               8.98            3       77.27                6   \n",
       "2              21.78            2       82.60                6   \n",
       "3              51.84            1      449.03                4   \n",
       "4              34.44            1      146.00                8   \n",
       "\n",
       "                          origin_up  pow_max  isic_1l  isic_2l    zip  \n",
       "0  ldkssxwpmemidmecebumciepifcamkci   10.392        Q       87  31395  \n",
       "1  kamkkxfxxuwbdslkwifmmcsiusiuosws   10.392        G       47  31395  \n",
       "2  kamkkxfxxuwbdslkwifmmcsiusiuosws   13.200        M       72  50316  \n",
       "3  lxidpiddsbxsbosboudacockeimpuepw   34.641        F       41  15325  \n",
       "4  ldkssxwpmemidmecebumciepifcamkci   17.240        C       25  20749  \n",
       "\n",
       "[5 rows x 35 columns]"
      ]
     },
     "execution_count": 862,
     "metadata": {},
     "output_type": "execute_result"
    }
   ],
   "source": [
    "print(test_data_v2.shape)\n",
    "test_data_v2.head()"
   ]
  },
  {
   "cell_type": "code",
   "execution_count": 863,
   "metadata": {},
   "outputs": [
    {
     "name": "stdout",
     "output_type": "stream",
     "text": [
      "(48236, 8)\n"
     ]
    },
    {
     "data": {
      "text/html": [
       "<div>\n",
       "<style scoped>\n",
       "    .dataframe tbody tr th:only-of-type {\n",
       "        vertical-align: middle;\n",
       "    }\n",
       "\n",
       "    .dataframe tbody tr th {\n",
       "        vertical-align: top;\n",
       "    }\n",
       "\n",
       "    .dataframe thead th {\n",
       "        text-align: right;\n",
       "    }\n",
       "</style>\n",
       "<table border=\"1\" class=\"dataframe\">\n",
       "  <thead>\n",
       "    <tr style=\"text-align: right;\">\n",
       "      <th></th>\n",
       "      <th>id</th>\n",
       "      <th>price_date</th>\n",
       "      <th>price_p1_var</th>\n",
       "      <th>price_p2_var</th>\n",
       "      <th>price_p3_var</th>\n",
       "      <th>price_p1_fix</th>\n",
       "      <th>price_p2_fix</th>\n",
       "      <th>price_p3_fix</th>\n",
       "    </tr>\n",
       "  </thead>\n",
       "  <tbody>\n",
       "    <tr>\n",
       "      <th>0</th>\n",
       "      <td>3acc714fbd9b3ccaac3c412cf220e929</td>\n",
       "      <td>2015-01-01</td>\n",
       "      <td>0.168185</td>\n",
       "      <td>0.084213</td>\n",
       "      <td>0.0</td>\n",
       "      <td>44.266931</td>\n",
       "      <td>0.0</td>\n",
       "      <td>0.0</td>\n",
       "    </tr>\n",
       "    <tr>\n",
       "      <th>1</th>\n",
       "      <td>3acc714fbd9b3ccaac3c412cf220e929</td>\n",
       "      <td>2015-02-01</td>\n",
       "      <td>0.168185</td>\n",
       "      <td>0.084213</td>\n",
       "      <td>0.0</td>\n",
       "      <td>44.266931</td>\n",
       "      <td>0.0</td>\n",
       "      <td>0.0</td>\n",
       "    </tr>\n",
       "    <tr>\n",
       "      <th>2</th>\n",
       "      <td>3acc714fbd9b3ccaac3c412cf220e929</td>\n",
       "      <td>2015-03-01</td>\n",
       "      <td>0.168185</td>\n",
       "      <td>0.084213</td>\n",
       "      <td>0.0</td>\n",
       "      <td>44.266931</td>\n",
       "      <td>0.0</td>\n",
       "      <td>0.0</td>\n",
       "    </tr>\n",
       "    <tr>\n",
       "      <th>3</th>\n",
       "      <td>3acc714fbd9b3ccaac3c412cf220e929</td>\n",
       "      <td>2015-04-01</td>\n",
       "      <td>0.168185</td>\n",
       "      <td>0.084213</td>\n",
       "      <td>0.0</td>\n",
       "      <td>44.266931</td>\n",
       "      <td>0.0</td>\n",
       "      <td>0.0</td>\n",
       "    </tr>\n",
       "    <tr>\n",
       "      <th>4</th>\n",
       "      <td>3acc714fbd9b3ccaac3c412cf220e929</td>\n",
       "      <td>2015-05-01</td>\n",
       "      <td>0.168185</td>\n",
       "      <td>0.084213</td>\n",
       "      <td>0.0</td>\n",
       "      <td>44.266930</td>\n",
       "      <td>0.0</td>\n",
       "      <td>0.0</td>\n",
       "    </tr>\n",
       "  </tbody>\n",
       "</table>\n",
       "</div>"
      ],
      "text/plain": [
       "                                 id  price_date  price_p1_var  price_p2_var  \\\n",
       "0  3acc714fbd9b3ccaac3c412cf220e929  2015-01-01      0.168185      0.084213   \n",
       "1  3acc714fbd9b3ccaac3c412cf220e929  2015-02-01      0.168185      0.084213   \n",
       "2  3acc714fbd9b3ccaac3c412cf220e929  2015-03-01      0.168185      0.084213   \n",
       "3  3acc714fbd9b3ccaac3c412cf220e929  2015-04-01      0.168185      0.084213   \n",
       "4  3acc714fbd9b3ccaac3c412cf220e929  2015-05-01      0.168185      0.084213   \n",
       "\n",
       "   price_p3_var  price_p1_fix  price_p2_fix  price_p3_fix  \n",
       "0           0.0     44.266931           0.0           0.0  \n",
       "1           0.0     44.266931           0.0           0.0  \n",
       "2           0.0     44.266931           0.0           0.0  \n",
       "3           0.0     44.266931           0.0           0.0  \n",
       "4           0.0     44.266930           0.0           0.0  "
      ]
     },
     "execution_count": 863,
     "metadata": {},
     "output_type": "execute_result"
    }
   ],
   "source": [
    "print(test_hist.shape)\n",
    "test_hist.head()"
   ]
  },
  {
   "cell_type": "code",
   "execution_count": 864,
   "metadata": {},
   "outputs": [
    {
     "name": "stdout",
     "output_type": "stream",
     "text": [
      "(16083, 35)\n"
     ]
    },
    {
     "data": {
      "text/html": [
       "<div>\n",
       "<style scoped>\n",
       "    .dataframe tbody tr th:only-of-type {\n",
       "        vertical-align: middle;\n",
       "    }\n",
       "\n",
       "    .dataframe tbody tr th {\n",
       "        vertical-align: top;\n",
       "    }\n",
       "\n",
       "    .dataframe thead th {\n",
       "        text-align: right;\n",
       "    }\n",
       "</style>\n",
       "<table border=\"1\" class=\"dataframe\">\n",
       "  <thead>\n",
       "    <tr style=\"text-align: right;\">\n",
       "      <th></th>\n",
       "      <th>Unnamed: 0</th>\n",
       "      <th>id</th>\n",
       "      <th>campaign_disc_ele</th>\n",
       "      <th>channel_sales</th>\n",
       "      <th>cons_12m</th>\n",
       "      <th>cons_gas_12m</th>\n",
       "      <th>cons_last_month</th>\n",
       "      <th>date_activ</th>\n",
       "      <th>date_end</th>\n",
       "      <th>date_first_activ</th>\n",
       "      <th>...</th>\n",
       "      <th>margin_gross_pow_ele</th>\n",
       "      <th>margin_net_pow_ele</th>\n",
       "      <th>nb_prod_act</th>\n",
       "      <th>net_margin</th>\n",
       "      <th>num_years_antig</th>\n",
       "      <th>origin_up</th>\n",
       "      <th>pow_max</th>\n",
       "      <th>isic_1l</th>\n",
       "      <th>isic_2l</th>\n",
       "      <th>zip</th>\n",
       "    </tr>\n",
       "  </thead>\n",
       "  <tbody>\n",
       "    <tr>\n",
       "      <th>0</th>\n",
       "      <td>0</td>\n",
       "      <td>48ada52261e7cf58715202705a0451c9</td>\n",
       "      <td>NaN</td>\n",
       "      <td>lmkebamcaaclubfxadlmueccxoimlema</td>\n",
       "      <td>309275</td>\n",
       "      <td>0</td>\n",
       "      <td>10025</td>\n",
       "      <td>2012-11-07</td>\n",
       "      <td>2016-11-06</td>\n",
       "      <td>NaN</td>\n",
       "      <td>...</td>\n",
       "      <td>-41.76</td>\n",
       "      <td>-41.76</td>\n",
       "      <td>1</td>\n",
       "      <td>1732.36</td>\n",
       "      <td>3</td>\n",
       "      <td>ldkssxwpmemidmecebumciepifcamkci</td>\n",
       "      <td>180.000</td>\n",
       "      <td>G</td>\n",
       "      <td>47</td>\n",
       "      <td>43877</td>\n",
       "    </tr>\n",
       "    <tr>\n",
       "      <th>1</th>\n",
       "      <td>1</td>\n",
       "      <td>24011ae4ebbe3035111d65fa7c15bc57</td>\n",
       "      <td>NaN</td>\n",
       "      <td>foosdfpfkusacimwkcsosbicdxkicaua</td>\n",
       "      <td>0</td>\n",
       "      <td>54946</td>\n",
       "      <td>0</td>\n",
       "      <td>2013-06-15</td>\n",
       "      <td>2016-06-15</td>\n",
       "      <td>NaN</td>\n",
       "      <td>...</td>\n",
       "      <td>25.44</td>\n",
       "      <td>25.44</td>\n",
       "      <td>2</td>\n",
       "      <td>678.99</td>\n",
       "      <td>3</td>\n",
       "      <td>lxidpiddsbxsbosboudacockeimpuepw</td>\n",
       "      <td>43.648</td>\n",
       "      <td>G</td>\n",
       "      <td>47</td>\n",
       "      <td>31395</td>\n",
       "    </tr>\n",
       "    <tr>\n",
       "      <th>2</th>\n",
       "      <td>2</td>\n",
       "      <td>23f9e0bddadb1d9c567b3c4576c8ac34</td>\n",
       "      <td>NaN</td>\n",
       "      <td>NaN</td>\n",
       "      <td>35446</td>\n",
       "      <td>0</td>\n",
       "      <td>4265</td>\n",
       "      <td>2009-10-26</td>\n",
       "      <td>2016-10-25</td>\n",
       "      <td>NaN</td>\n",
       "      <td>...</td>\n",
       "      <td>27.44</td>\n",
       "      <td>27.44</td>\n",
       "      <td>1</td>\n",
       "      <td>40.23</td>\n",
       "      <td>6</td>\n",
       "      <td>kamkkxfxxuwbdslkwifmmcsiusiuosws</td>\n",
       "      <td>13.200</td>\n",
       "      <td>A</td>\n",
       "      <td>2</td>\n",
       "      <td>31395</td>\n",
       "    </tr>\n",
       "    <tr>\n",
       "      <th>3</th>\n",
       "      <td>3</td>\n",
       "      <td>0c14a4e90623d74951da665862147606</td>\n",
       "      <td>NaN</td>\n",
       "      <td>foosdfpfkusacimwkcsosbicdxkicaua</td>\n",
       "      <td>63442</td>\n",
       "      <td>0</td>\n",
       "      <td>10261</td>\n",
       "      <td>2012-05-15</td>\n",
       "      <td>2016-05-15</td>\n",
       "      <td>2012-05-15</td>\n",
       "      <td>...</td>\n",
       "      <td>17.22</td>\n",
       "      <td>17.22</td>\n",
       "      <td>1</td>\n",
       "      <td>168.94</td>\n",
       "      <td>4</td>\n",
       "      <td>lxidpiddsbxsbosboudacockeimpuepw</td>\n",
       "      <td>10.390</td>\n",
       "      <td>F</td>\n",
       "      <td>41</td>\n",
       "      <td>31395</td>\n",
       "    </tr>\n",
       "    <tr>\n",
       "      <th>4</th>\n",
       "      <td>4</td>\n",
       "      <td>f2c6ef2fa0b1a52d02872832279081c0</td>\n",
       "      <td>NaN</td>\n",
       "      <td>ewpakwlliwisiwduibdlfmalxowmwpci</td>\n",
       "      <td>11354</td>\n",
       "      <td>0</td>\n",
       "      <td>992</td>\n",
       "      <td>2013-01-01</td>\n",
       "      <td>2017-01-01</td>\n",
       "      <td>NaN</td>\n",
       "      <td>...</td>\n",
       "      <td>0.00</td>\n",
       "      <td>0.00</td>\n",
       "      <td>1</td>\n",
       "      <td>156.32</td>\n",
       "      <td>3</td>\n",
       "      <td>kamkkxfxxuwbdslkwifmmcsiusiuosws</td>\n",
       "      <td>13.200</td>\n",
       "      <td>L</td>\n",
       "      <td>68</td>\n",
       "      <td>31395</td>\n",
       "    </tr>\n",
       "  </tbody>\n",
       "</table>\n",
       "<p>5 rows × 35 columns</p>\n",
       "</div>"
      ],
      "text/plain": [
       "   Unnamed: 0                                id  campaign_disc_ele  \\\n",
       "0           0  48ada52261e7cf58715202705a0451c9                NaN   \n",
       "1           1  24011ae4ebbe3035111d65fa7c15bc57                NaN   \n",
       "2           2  23f9e0bddadb1d9c567b3c4576c8ac34                NaN   \n",
       "3           3  0c14a4e90623d74951da665862147606                NaN   \n",
       "4           4  f2c6ef2fa0b1a52d02872832279081c0                NaN   \n",
       "\n",
       "                      channel_sales  cons_12m  cons_gas_12m  cons_last_month  \\\n",
       "0  lmkebamcaaclubfxadlmueccxoimlema    309275             0            10025   \n",
       "1  foosdfpfkusacimwkcsosbicdxkicaua         0         54946                0   \n",
       "2                               NaN     35446             0             4265   \n",
       "3  foosdfpfkusacimwkcsosbicdxkicaua     63442             0            10261   \n",
       "4  ewpakwlliwisiwduibdlfmalxowmwpci     11354             0              992   \n",
       "\n",
       "   date_activ    date_end date_first_activ  ...   margin_gross_pow_ele  \\\n",
       "0  2012-11-07  2016-11-06              NaN  ...                 -41.76   \n",
       "1  2013-06-15  2016-06-15              NaN  ...                  25.44   \n",
       "2  2009-10-26  2016-10-25              NaN  ...                  27.44   \n",
       "3  2012-05-15  2016-05-15       2012-05-15  ...                  17.22   \n",
       "4  2013-01-01  2017-01-01              NaN  ...                   0.00   \n",
       "\n",
       "  margin_net_pow_ele  nb_prod_act  net_margin  num_years_antig  \\\n",
       "0             -41.76            1     1732.36                3   \n",
       "1              25.44            2      678.99                3   \n",
       "2              27.44            1       40.23                6   \n",
       "3              17.22            1      168.94                4   \n",
       "4               0.00            1      156.32                3   \n",
       "\n",
       "                          origin_up  pow_max  isic_1l  isic_2l    zip  \n",
       "0  ldkssxwpmemidmecebumciepifcamkci  180.000        G       47  43877  \n",
       "1  lxidpiddsbxsbosboudacockeimpuepw   43.648        G       47  31395  \n",
       "2  kamkkxfxxuwbdslkwifmmcsiusiuosws   13.200        A        2  31395  \n",
       "3  lxidpiddsbxsbosboudacockeimpuepw   10.390        F       41  31395  \n",
       "4  kamkkxfxxuwbdslkwifmmcsiusiuosws   13.200        L       68  31395  \n",
       "\n",
       "[5 rows x 35 columns]"
      ]
     },
     "execution_count": 864,
     "metadata": {},
     "output_type": "execute_result"
    }
   ],
   "source": [
    "print(training.shape)\n",
    "training.head()"
   ]
  },
  {
   "cell_type": "code",
   "execution_count": 865,
   "metadata": {},
   "outputs": [
    {
     "name": "stdout",
     "output_type": "stream",
     "text": [
      "(16096, 2)\n"
     ]
    },
    {
     "data": {
      "text/html": [
       "<div>\n",
       "<style scoped>\n",
       "    .dataframe tbody tr th:only-of-type {\n",
       "        vertical-align: middle;\n",
       "    }\n",
       "\n",
       "    .dataframe tbody tr th {\n",
       "        vertical-align: top;\n",
       "    }\n",
       "\n",
       "    .dataframe thead th {\n",
       "        text-align: right;\n",
       "    }\n",
       "</style>\n",
       "<table border=\"1\" class=\"dataframe\">\n",
       "  <thead>\n",
       "    <tr style=\"text-align: right;\">\n",
       "      <th></th>\n",
       "      <th>id</th>\n",
       "      <th>churn</th>\n",
       "    </tr>\n",
       "  </thead>\n",
       "  <tbody>\n",
       "    <tr>\n",
       "      <th>0</th>\n",
       "      <td>48ada52261e7cf58715202705a0451c9</td>\n",
       "      <td>0</td>\n",
       "    </tr>\n",
       "    <tr>\n",
       "      <th>1</th>\n",
       "      <td>24011ae4ebbe3035111d65fa7c15bc57</td>\n",
       "      <td>1</td>\n",
       "    </tr>\n",
       "    <tr>\n",
       "      <th>2</th>\n",
       "      <td>d29c2c54acc38ff3c0614d0a653813dd</td>\n",
       "      <td>0</td>\n",
       "    </tr>\n",
       "    <tr>\n",
       "      <th>3</th>\n",
       "      <td>764c75f661154dac3a6c254cd082ea7d</td>\n",
       "      <td>0</td>\n",
       "    </tr>\n",
       "    <tr>\n",
       "      <th>4</th>\n",
       "      <td>bba03439a292a1e166f80264c16191cb</td>\n",
       "      <td>0</td>\n",
       "    </tr>\n",
       "  </tbody>\n",
       "</table>\n",
       "</div>"
      ],
      "text/plain": [
       "                                 id  churn\n",
       "0  48ada52261e7cf58715202705a0451c9      0\n",
       "1  24011ae4ebbe3035111d65fa7c15bc57      1\n",
       "2  d29c2c54acc38ff3c0614d0a653813dd      0\n",
       "3  764c75f661154dac3a6c254cd082ea7d      0\n",
       "4  bba03439a292a1e166f80264c16191cb      0"
      ]
     },
     "execution_count": 865,
     "metadata": {},
     "output_type": "execute_result"
    }
   ],
   "source": [
    "print(output.shape)\n",
    "output.head()"
   ]
  },
  {
   "cell_type": "code",
   "execution_count": 866,
   "metadata": {},
   "outputs": [
    {
     "data": {
      "text/plain": [
       "<matplotlib.axes._subplots.AxesSubplot at 0x1a27059438>"
      ]
     },
     "execution_count": 866,
     "metadata": {},
     "output_type": "execute_result"
    },
    {
     "data": {
      "image/png": "[encoded data removed]",
      "text/plain": [
       "<Figure size 432x288 with 2 Axes>"
      ]
     },
     "metadata": {},
     "output_type": "display_data"
    }
   ],
   "source": [
    "sns.heatmap(training.corr(),center=True,square=True)"
   ]
  },
  {
   "cell_type": "code",
   "execution_count": 867,
   "metadata": {},
   "outputs": [
    {
     "data": {
      "text/plain": [
       "array([nan])"
      ]
     },
     "execution_count": 867,
     "metadata": {},
     "output_type": "execute_result"
    }
   ],
   "source": [
    "training['campaign_disc_ele'].unique()"
   ]
  },
  {
   "cell_type": "code",
   "execution_count": 868,
   "metadata": {},
   "outputs": [
    {
     "name": "stdout",
     "output_type": "stream",
     "text": [
      "(20099, 36)\n"
     ]
    },
    {
     "data": {
      "text/html": [
       "<div>\n",
       "<style scoped>\n",
       "    .dataframe tbody tr th:only-of-type {\n",
       "        vertical-align: middle;\n",
       "    }\n",
       "\n",
       "    .dataframe tbody tr th {\n",
       "        vertical-align: top;\n",
       "    }\n",
       "\n",
       "    .dataframe thead th {\n",
       "        text-align: right;\n",
       "    }\n",
       "</style>\n",
       "<table border=\"1\" class=\"dataframe\">\n",
       "  <thead>\n",
       "    <tr style=\"text-align: right;\">\n",
       "      <th></th>\n",
       "      <th>id</th>\n",
       "      <th>campaign_disc_ele</th>\n",
       "      <th>channel_sales</th>\n",
       "      <th>cons_12m</th>\n",
       "      <th>cons_gas_12m</th>\n",
       "      <th>cons_last_month</th>\n",
       "      <th>date_activ</th>\n",
       "      <th>date_end</th>\n",
       "      <th>date_first_activ</th>\n",
       "      <th>date_modif_prod</th>\n",
       "      <th>...</th>\n",
       "      <th>nb_prod_act</th>\n",
       "      <th>net_margin</th>\n",
       "      <th>num_years_antig</th>\n",
       "      <th>origin_up</th>\n",
       "      <th>pow_max</th>\n",
       "      <th>isic_1l</th>\n",
       "      <th>isic_2l</th>\n",
       "      <th>zip</th>\n",
       "      <th>churn</th>\n",
       "      <th>Churn_probability</th>\n",
       "    </tr>\n",
       "  </thead>\n",
       "  <tbody>\n",
       "    <tr>\n",
       "      <th>0</th>\n",
       "      <td>48ada52261e7cf58715202705a0451c9</td>\n",
       "      <td>NaN</td>\n",
       "      <td>lmkebamcaaclubfxadlmueccxoimlema</td>\n",
       "      <td>309275</td>\n",
       "      <td>0</td>\n",
       "      <td>10025</td>\n",
       "      <td>2012-11-07</td>\n",
       "      <td>2016-11-06</td>\n",
       "      <td>NaN</td>\n",
       "      <td>2012-11-07</td>\n",
       "      <td>...</td>\n",
       "      <td>1</td>\n",
       "      <td>1732.36</td>\n",
       "      <td>3</td>\n",
       "      <td>ldkssxwpmemidmecebumciepifcamkci</td>\n",
       "      <td>180.000</td>\n",
       "      <td>G</td>\n",
       "      <td>47</td>\n",
       "      <td>43877</td>\n",
       "      <td>0.0</td>\n",
       "      <td>0.0</td>\n",
       "    </tr>\n",
       "    <tr>\n",
       "      <th>1</th>\n",
       "      <td>24011ae4ebbe3035111d65fa7c15bc57</td>\n",
       "      <td>NaN</td>\n",
       "      <td>foosdfpfkusacimwkcsosbicdxkicaua</td>\n",
       "      <td>0</td>\n",
       "      <td>54946</td>\n",
       "      <td>0</td>\n",
       "      <td>2013-06-15</td>\n",
       "      <td>2016-06-15</td>\n",
       "      <td>NaN</td>\n",
       "      <td>NaN</td>\n",
       "      <td>...</td>\n",
       "      <td>2</td>\n",
       "      <td>678.99</td>\n",
       "      <td>3</td>\n",
       "      <td>lxidpiddsbxsbosboudacockeimpuepw</td>\n",
       "      <td>43.648</td>\n",
       "      <td>G</td>\n",
       "      <td>47</td>\n",
       "      <td>31395</td>\n",
       "      <td>1.0</td>\n",
       "      <td>1.0</td>\n",
       "    </tr>\n",
       "    <tr>\n",
       "      <th>2</th>\n",
       "      <td>23f9e0bddadb1d9c567b3c4576c8ac34</td>\n",
       "      <td>NaN</td>\n",
       "      <td>NaN</td>\n",
       "      <td>35446</td>\n",
       "      <td>0</td>\n",
       "      <td>4265</td>\n",
       "      <td>2009-10-26</td>\n",
       "      <td>2016-10-25</td>\n",
       "      <td>NaN</td>\n",
       "      <td>2009-10-26</td>\n",
       "      <td>...</td>\n",
       "      <td>1</td>\n",
       "      <td>40.23</td>\n",
       "      <td>6</td>\n",
       "      <td>kamkkxfxxuwbdslkwifmmcsiusiuosws</td>\n",
       "      <td>13.200</td>\n",
       "      <td>A</td>\n",
       "      <td>2</td>\n",
       "      <td>31395</td>\n",
       "      <td>0.0</td>\n",
       "      <td>0.0</td>\n",
       "    </tr>\n",
       "    <tr>\n",
       "      <th>3</th>\n",
       "      <td>0c14a4e90623d74951da665862147606</td>\n",
       "      <td>NaN</td>\n",
       "      <td>foosdfpfkusacimwkcsosbicdxkicaua</td>\n",
       "      <td>63442</td>\n",
       "      <td>0</td>\n",
       "      <td>10261</td>\n",
       "      <td>2012-05-15</td>\n",
       "      <td>2016-05-15</td>\n",
       "      <td>2012-05-15</td>\n",
       "      <td>2012-05-15</td>\n",
       "      <td>...</td>\n",
       "      <td>1</td>\n",
       "      <td>168.94</td>\n",
       "      <td>4</td>\n",
       "      <td>lxidpiddsbxsbosboudacockeimpuepw</td>\n",
       "      <td>10.390</td>\n",
       "      <td>F</td>\n",
       "      <td>41</td>\n",
       "      <td>31395</td>\n",
       "      <td>0.0</td>\n",
       "      <td>0.0</td>\n",
       "    </tr>\n",
       "    <tr>\n",
       "      <th>4</th>\n",
       "      <td>f2c6ef2fa0b1a52d02872832279081c0</td>\n",
       "      <td>NaN</td>\n",
       "      <td>ewpakwlliwisiwduibdlfmalxowmwpci</td>\n",
       "      <td>11354</td>\n",
       "      <td>0</td>\n",
       "      <td>992</td>\n",
       "      <td>2013-01-01</td>\n",
       "      <td>2017-01-01</td>\n",
       "      <td>NaN</td>\n",
       "      <td>2013-01-01</td>\n",
       "      <td>...</td>\n",
       "      <td>1</td>\n",
       "      <td>156.32</td>\n",
       "      <td>3</td>\n",
       "      <td>kamkkxfxxuwbdslkwifmmcsiusiuosws</td>\n",
       "      <td>13.200</td>\n",
       "      <td>L</td>\n",
       "      <td>68</td>\n",
       "      <td>31395</td>\n",
       "      <td>0.0</td>\n",
       "      <td>0.0</td>\n",
       "    </tr>\n",
       "  </tbody>\n",
       "</table>\n",
       "<p>5 rows × 36 columns</p>\n",
       "</div>"
      ],
      "text/plain": [
       "                                 id  campaign_disc_ele  \\\n",
       "0  48ada52261e7cf58715202705a0451c9                NaN   \n",
       "1  24011ae4ebbe3035111d65fa7c15bc57                NaN   \n",
       "2  23f9e0bddadb1d9c567b3c4576c8ac34                NaN   \n",
       "3  0c14a4e90623d74951da665862147606                NaN   \n",
       "4  f2c6ef2fa0b1a52d02872832279081c0                NaN   \n",
       "\n",
       "                      channel_sales  cons_12m  cons_gas_12m  cons_last_month  \\\n",
       "0  lmkebamcaaclubfxadlmueccxoimlema    309275             0            10025   \n",
       "1  foosdfpfkusacimwkcsosbicdxkicaua         0         54946                0   \n",
       "2                               NaN     35446             0             4265   \n",
       "3  foosdfpfkusacimwkcsosbicdxkicaua     63442             0            10261   \n",
       "4  ewpakwlliwisiwduibdlfmalxowmwpci     11354             0              992   \n",
       "\n",
       "   date_activ    date_end date_first_activ date_modif_prod        ...          \\\n",
       "0  2012-11-07  2016-11-06              NaN      2012-11-07        ...           \n",
       "1  2013-06-15  2016-06-15              NaN             NaN        ...           \n",
       "2  2009-10-26  2016-10-25              NaN      2009-10-26        ...           \n",
       "3  2012-05-15  2016-05-15       2012-05-15      2012-05-15        ...           \n",
       "4  2013-01-01  2017-01-01              NaN      2013-01-01        ...           \n",
       "\n",
       "  nb_prod_act  net_margin  num_years_antig                         origin_up  \\\n",
       "0           1     1732.36                3  ldkssxwpmemidmecebumciepifcamkci   \n",
       "1           2      678.99                3  lxidpiddsbxsbosboudacockeimpuepw   \n",
       "2           1       40.23                6  kamkkxfxxuwbdslkwifmmcsiusiuosws   \n",
       "3           1      168.94                4  lxidpiddsbxsbosboudacockeimpuepw   \n",
       "4           1      156.32                3  kamkkxfxxuwbdslkwifmmcsiusiuosws   \n",
       "\n",
       "   pow_max  isic_1l  isic_2l    zip  churn  Churn_probability  \n",
       "0  180.000        G       47  43877    0.0                0.0  \n",
       "1   43.648        G       47  31395    1.0                1.0  \n",
       "2   13.200        A        2  31395    0.0                0.0  \n",
       "3   10.390        F       41  31395    0.0                0.0  \n",
       "4   13.200        L       68  31395    0.0                0.0  \n",
       "\n",
       "[5 rows x 36 columns]"
      ]
     },
     "execution_count": 868,
     "metadata": {},
     "output_type": "execute_result"
    }
   ],
   "source": [
    "print(full.shape)\n",
    "full.head()"
   ]
  },
  {
   "cell_type": "code",
   "execution_count": 869,
   "metadata": {},
   "outputs": [
    {
     "data": {
      "text/plain": [
       "<matplotlib.axes._subplots.AxesSubplot at 0x1a288c1b00>"
      ]
     },
     "execution_count": 869,
     "metadata": {},
     "output_type": "execute_result"
    },
    {
     "data": {
      "image/png": "[encoded data removed]",
      "text/plain": [
       "<Figure size 432x288 with 2 Axes>"
      ]
     },
     "metadata": {},
     "output_type": "display_data"
    }
   ],
   "source": [
    "sns.heatmap(full.corr(),center=True,square=True)"
   ]
  },
  {
   "cell_type": "code",
   "execution_count": 870,
   "metadata": {},
   "outputs": [
    {
     "data": {
      "text/html": [
       "<div>\n",
       "<style scoped>\n",
       "    .dataframe tbody tr th:only-of-type {\n",
       "        vertical-align: middle;\n",
       "    }\n",
       "\n",
       "    .dataframe tbody tr th {\n",
       "        vertical-align: top;\n",
       "    }\n",
       "\n",
       "    .dataframe thead th {\n",
       "        text-align: right;\n",
       "    }\n",
       "</style>\n",
       "<table border=\"1\" class=\"dataframe\">\n",
       "  <thead>\n",
       "    <tr style=\"text-align: right;\">\n",
       "      <th></th>\n",
       "      <th>campaign_disc_ele</th>\n",
       "      <th>cons_12m</th>\n",
       "      <th>cons_gas_12m</th>\n",
       "      <th>cons_last_month</th>\n",
       "      <th>forecast_base_bill_ele</th>\n",
       "      <th>forecast_base_bill_year</th>\n",
       "      <th>forecast_bill_12m</th>\n",
       "      <th>forecast_cons</th>\n",
       "      <th>forecast_cons_12m</th>\n",
       "      <th>forecast_cons_year</th>\n",
       "      <th>...</th>\n",
       "      <th>margin_gross_pow_ele</th>\n",
       "      <th>margin_net_pow_ele</th>\n",
       "      <th>nb_prod_act</th>\n",
       "      <th>net_margin</th>\n",
       "      <th>num_years_antig</th>\n",
       "      <th>pow_max</th>\n",
       "      <th>isic_2l</th>\n",
       "      <th>zip</th>\n",
       "      <th>churn</th>\n",
       "      <th>Churn_probability</th>\n",
       "    </tr>\n",
       "  </thead>\n",
       "  <tbody>\n",
       "    <tr>\n",
       "      <th>num_years_antig</th>\n",
       "      <td>NaN</td>\n",
       "      <td>0.004497</td>\n",
       "      <td>-0.013291</td>\n",
       "      <td>0.001813</td>\n",
       "      <td>0.013914</td>\n",
       "      <td>0.013914</td>\n",
       "      <td>0.027831</td>\n",
       "      <td>0.002359</td>\n",
       "      <td>0.062750</td>\n",
       "      <td>0.064764</td>\n",
       "      <td>...</td>\n",
       "      <td>-0.078031</td>\n",
       "      <td>-0.031848</td>\n",
       "      <td>0.006884</td>\n",
       "      <td>0.035963</td>\n",
       "      <td>1.000000</td>\n",
       "      <td>0.083688</td>\n",
       "      <td>-0.018974</td>\n",
       "      <td>0.013824</td>\n",
       "      <td>-0.071515</td>\n",
       "      <td>-0.071515</td>\n",
       "    </tr>\n",
       "    <tr>\n",
       "      <th>cons_12m</th>\n",
       "      <td>NaN</td>\n",
       "      <td>1.000000</td>\n",
       "      <td>0.491418</td>\n",
       "      <td>0.927363</td>\n",
       "      <td>0.136303</td>\n",
       "      <td>0.136303</td>\n",
       "      <td>0.162994</td>\n",
       "      <td>0.131562</td>\n",
       "      <td>0.169948</td>\n",
       "      <td>0.148705</td>\n",
       "      <td>...</td>\n",
       "      <td>-0.066941</td>\n",
       "      <td>-0.045310</td>\n",
       "      <td>0.307299</td>\n",
       "      <td>0.129209</td>\n",
       "      <td>0.004497</td>\n",
       "      <td>0.108745</td>\n",
       "      <td>-0.004735</td>\n",
       "      <td>-0.002347</td>\n",
       "      <td>-0.051862</td>\n",
       "      <td>-0.051862</td>\n",
       "    </tr>\n",
       "    <tr>\n",
       "      <th>cons_last_month</th>\n",
       "      <td>NaN</td>\n",
       "      <td>0.927363</td>\n",
       "      <td>0.469557</td>\n",
       "      <td>1.000000</td>\n",
       "      <td>0.145301</td>\n",
       "      <td>0.145301</td>\n",
       "      <td>0.145732</td>\n",
       "      <td>0.143220</td>\n",
       "      <td>0.133626</td>\n",
       "      <td>0.159505</td>\n",
       "      <td>...</td>\n",
       "      <td>-0.056351</td>\n",
       "      <td>-0.037992</td>\n",
       "      <td>0.354386</td>\n",
       "      <td>0.103407</td>\n",
       "      <td>0.001813</td>\n",
       "      <td>0.092945</td>\n",
       "      <td>-0.010149</td>\n",
       "      <td>-0.004558</td>\n",
       "      <td>-0.046903</td>\n",
       "      <td>-0.046903</td>\n",
       "    </tr>\n",
       "    <tr>\n",
       "      <th>cons_gas_12m</th>\n",
       "      <td>NaN</td>\n",
       "      <td>0.491418</td>\n",
       "      <td>1.000000</td>\n",
       "      <td>0.469557</td>\n",
       "      <td>0.087278</td>\n",
       "      <td>0.087278</td>\n",
       "      <td>0.090273</td>\n",
       "      <td>0.075786</td>\n",
       "      <td>0.067824</td>\n",
       "      <td>0.065170</td>\n",
       "      <td>...</td>\n",
       "      <td>-0.022804</td>\n",
       "      <td>-0.013805</td>\n",
       "      <td>0.270177</td>\n",
       "      <td>0.065520</td>\n",
       "      <td>-0.013291</td>\n",
       "      <td>0.054788</td>\n",
       "      <td>0.002628</td>\n",
       "      <td>-0.003277</td>\n",
       "      <td>-0.040707</td>\n",
       "      <td>-0.040707</td>\n",
       "    </tr>\n",
       "    <tr>\n",
       "      <th>nb_prod_act</th>\n",
       "      <td>NaN</td>\n",
       "      <td>0.307299</td>\n",
       "      <td>0.270177</td>\n",
       "      <td>0.354386</td>\n",
       "      <td>0.039601</td>\n",
       "      <td>0.039601</td>\n",
       "      <td>0.040628</td>\n",
       "      <td>0.040788</td>\n",
       "      <td>0.016059</td>\n",
       "      <td>0.018714</td>\n",
       "      <td>...</td>\n",
       "      <td>-0.043018</td>\n",
       "      <td>-0.032315</td>\n",
       "      <td>1.000000</td>\n",
       "      <td>0.005088</td>\n",
       "      <td>0.006884</td>\n",
       "      <td>0.019412</td>\n",
       "      <td>-0.018475</td>\n",
       "      <td>0.001418</td>\n",
       "      <td>-0.022343</td>\n",
       "      <td>-0.022343</td>\n",
       "    </tr>\n",
       "    <tr>\n",
       "      <th>forecast_cons</th>\n",
       "      <td>NaN</td>\n",
       "      <td>0.131562</td>\n",
       "      <td>0.075786</td>\n",
       "      <td>0.143220</td>\n",
       "      <td>0.965047</td>\n",
       "      <td>0.965047</td>\n",
       "      <td>0.677617</td>\n",
       "      <td>1.000000</td>\n",
       "      <td>0.695480</td>\n",
       "      <td>0.980648</td>\n",
       "      <td>...</td>\n",
       "      <td>-0.110740</td>\n",
       "      <td>-0.080051</td>\n",
       "      <td>0.040788</td>\n",
       "      <td>0.459744</td>\n",
       "      <td>0.002359</td>\n",
       "      <td>0.402466</td>\n",
       "      <td>0.009897</td>\n",
       "      <td>0.014785</td>\n",
       "      <td>-0.004164</td>\n",
       "      <td>-0.004164</td>\n",
       "    </tr>\n",
       "    <tr>\n",
       "      <th>forecast_price_energy_p1</th>\n",
       "      <td>NaN</td>\n",
       "      <td>-0.036510</td>\n",
       "      <td>-0.024927</td>\n",
       "      <td>-0.026823</td>\n",
       "      <td>-0.203675</td>\n",
       "      <td>-0.203675</td>\n",
       "      <td>-0.259594</td>\n",
       "      <td>-0.139439</td>\n",
       "      <td>-0.216231</td>\n",
       "      <td>-0.202210</td>\n",
       "      <td>...</td>\n",
       "      <td>0.177533</td>\n",
       "      <td>0.009074</td>\n",
       "      <td>0.023245</td>\n",
       "      <td>-0.189652</td>\n",
       "      <td>-0.195577</td>\n",
       "      <td>-0.353401</td>\n",
       "      <td>0.002867</td>\n",
       "      <td>0.000376</td>\n",
       "      <td>-0.003604</td>\n",
       "      <td>-0.003604</td>\n",
       "    </tr>\n",
       "    <tr>\n",
       "      <th>forecast_base_bill_ele</th>\n",
       "      <td>NaN</td>\n",
       "      <td>0.136303</td>\n",
       "      <td>0.087278</td>\n",
       "      <td>0.145301</td>\n",
       "      <td>1.000000</td>\n",
       "      <td>1.000000</td>\n",
       "      <td>0.755829</td>\n",
       "      <td>0.965047</td>\n",
       "      <td>0.728622</td>\n",
       "      <td>0.966610</td>\n",
       "      <td>...</td>\n",
       "      <td>-0.094857</td>\n",
       "      <td>-0.063275</td>\n",
       "      <td>0.039601</td>\n",
       "      <td>0.469259</td>\n",
       "      <td>0.013914</td>\n",
       "      <td>0.542454</td>\n",
       "      <td>0.013932</td>\n",
       "      <td>0.015741</td>\n",
       "      <td>0.001614</td>\n",
       "      <td>0.001614</td>\n",
       "    </tr>\n",
       "    <tr>\n",
       "      <th>forecast_base_bill_year</th>\n",
       "      <td>NaN</td>\n",
       "      <td>0.136303</td>\n",
       "      <td>0.087278</td>\n",
       "      <td>0.145301</td>\n",
       "      <td>1.000000</td>\n",
       "      <td>1.000000</td>\n",
       "      <td>0.755829</td>\n",
       "      <td>0.965047</td>\n",
       "      <td>0.728622</td>\n",
       "      <td>0.966610</td>\n",
       "      <td>...</td>\n",
       "      <td>-0.094857</td>\n",
       "      <td>-0.063275</td>\n",
       "      <td>0.039601</td>\n",
       "      <td>0.469259</td>\n",
       "      <td>0.013914</td>\n",
       "      <td>0.542454</td>\n",
       "      <td>0.013932</td>\n",
       "      <td>0.015741</td>\n",
       "      <td>0.001614</td>\n",
       "      <td>0.001614</td>\n",
       "    </tr>\n",
       "    <tr>\n",
       "      <th>forecast_cons_year</th>\n",
       "      <td>NaN</td>\n",
       "      <td>0.148705</td>\n",
       "      <td>0.065170</td>\n",
       "      <td>0.159505</td>\n",
       "      <td>0.966610</td>\n",
       "      <td>0.966610</td>\n",
       "      <td>0.732996</td>\n",
       "      <td>0.980648</td>\n",
       "      <td>0.738146</td>\n",
       "      <td>1.000000</td>\n",
       "      <td>...</td>\n",
       "      <td>-0.139435</td>\n",
       "      <td>-0.108729</td>\n",
       "      <td>0.018714</td>\n",
       "      <td>0.544711</td>\n",
       "      <td>0.064764</td>\n",
       "      <td>0.434038</td>\n",
       "      <td>-0.001442</td>\n",
       "      <td>-0.003494</td>\n",
       "      <td>0.003091</td>\n",
       "      <td>0.003091</td>\n",
       "    </tr>\n",
       "    <tr>\n",
       "      <th>imp_cons</th>\n",
       "      <td>NaN</td>\n",
       "      <td>0.146960</td>\n",
       "      <td>0.066039</td>\n",
       "      <td>0.160277</td>\n",
       "      <td>0.965047</td>\n",
       "      <td>0.965047</td>\n",
       "      <td>0.677617</td>\n",
       "      <td>1.000000</td>\n",
       "      <td>0.711271</td>\n",
       "      <td>0.982143</td>\n",
       "      <td>...</td>\n",
       "      <td>-0.121556</td>\n",
       "      <td>-0.094539</td>\n",
       "      <td>0.022885</td>\n",
       "      <td>0.536603</td>\n",
       "      <td>0.049617</td>\n",
       "      <td>0.394870</td>\n",
       "      <td>-0.000445</td>\n",
       "      <td>-0.002354</td>\n",
       "      <td>0.003762</td>\n",
       "      <td>0.003762</td>\n",
       "    </tr>\n",
       "    <tr>\n",
       "      <th>forecast_price_pow_p1</th>\n",
       "      <td>NaN</td>\n",
       "      <td>-0.026028</td>\n",
       "      <td>-0.027459</td>\n",
       "      <td>-0.021321</td>\n",
       "      <td>0.096718</td>\n",
       "      <td>0.096718</td>\n",
       "      <td>0.146325</td>\n",
       "      <td>0.063335</td>\n",
       "      <td>0.051871</td>\n",
       "      <td>0.048879</td>\n",
       "      <td>...</td>\n",
       "      <td>-0.115756</td>\n",
       "      <td>-0.141828</td>\n",
       "      <td>-0.009175</td>\n",
       "      <td>-0.011044</td>\n",
       "      <td>-0.037048</td>\n",
       "      <td>0.060276</td>\n",
       "      <td>-0.007630</td>\n",
       "      <td>0.004734</td>\n",
       "      <td>0.004126</td>\n",
       "      <td>0.004126</td>\n",
       "    </tr>\n",
       "    <tr>\n",
       "      <th>forecast_cons_12m</th>\n",
       "      <td>NaN</td>\n",
       "      <td>0.169948</td>\n",
       "      <td>0.067824</td>\n",
       "      <td>0.133626</td>\n",
       "      <td>0.728622</td>\n",
       "      <td>0.728622</td>\n",
       "      <td>0.972744</td>\n",
       "      <td>0.695480</td>\n",
       "      <td>1.000000</td>\n",
       "      <td>0.738146</td>\n",
       "      <td>...</td>\n",
       "      <td>-0.184038</td>\n",
       "      <td>-0.144316</td>\n",
       "      <td>0.016059</td>\n",
       "      <td>0.780906</td>\n",
       "      <td>0.062750</td>\n",
       "      <td>0.571882</td>\n",
       "      <td>0.000044</td>\n",
       "      <td>0.000422</td>\n",
       "      <td>0.007897</td>\n",
       "      <td>0.007897</td>\n",
       "    </tr>\n",
       "    <tr>\n",
       "      <th>forecast_bill_12m</th>\n",
       "      <td>NaN</td>\n",
       "      <td>0.162994</td>\n",
       "      <td>0.090273</td>\n",
       "      <td>0.145732</td>\n",
       "      <td>0.755829</td>\n",
       "      <td>0.755829</td>\n",
       "      <td>1.000000</td>\n",
       "      <td>0.677617</td>\n",
       "      <td>0.972744</td>\n",
       "      <td>0.732996</td>\n",
       "      <td>...</td>\n",
       "      <td>-0.145461</td>\n",
       "      <td>-0.101275</td>\n",
       "      <td>0.040628</td>\n",
       "      <td>0.669132</td>\n",
       "      <td>0.027831</td>\n",
       "      <td>0.724154</td>\n",
       "      <td>0.012080</td>\n",
       "      <td>0.020576</td>\n",
       "      <td>0.008204</td>\n",
       "      <td>0.008204</td>\n",
       "    </tr>\n",
       "    <tr>\n",
       "      <th>pow_max</th>\n",
       "      <td>NaN</td>\n",
       "      <td>0.108745</td>\n",
       "      <td>0.054788</td>\n",
       "      <td>0.092945</td>\n",
       "      <td>0.542454</td>\n",
       "      <td>0.542454</td>\n",
       "      <td>0.724154</td>\n",
       "      <td>0.402466</td>\n",
       "      <td>0.571882</td>\n",
       "      <td>0.434038</td>\n",
       "      <td>...</td>\n",
       "      <td>-0.007574</td>\n",
       "      <td>0.001617</td>\n",
       "      <td>0.019412</td>\n",
       "      <td>0.458071</td>\n",
       "      <td>0.083688</td>\n",
       "      <td>1.000000</td>\n",
       "      <td>0.000279</td>\n",
       "      <td>-0.004278</td>\n",
       "      <td>0.009836</td>\n",
       "      <td>0.009836</td>\n",
       "    </tr>\n",
       "    <tr>\n",
       "      <th>forecast_discount_energy</th>\n",
       "      <td>NaN</td>\n",
       "      <td>-0.044540</td>\n",
       "      <td>-0.018165</td>\n",
       "      <td>-0.039100</td>\n",
       "      <td>0.008115</td>\n",
       "      <td>0.008115</td>\n",
       "      <td>0.001521</td>\n",
       "      <td>0.019797</td>\n",
       "      <td>0.016561</td>\n",
       "      <td>-0.007582</td>\n",
       "      <td>...</td>\n",
       "      <td>0.193115</td>\n",
       "      <td>0.128176</td>\n",
       "      <td>0.058164</td>\n",
       "      <td>0.008168</td>\n",
       "      <td>-0.068949</td>\n",
       "      <td>-0.024976</td>\n",
       "      <td>-0.003425</td>\n",
       "      <td>-0.005793</td>\n",
       "      <td>0.012604</td>\n",
       "      <td>0.012604</td>\n",
       "    </tr>\n",
       "    <tr>\n",
       "      <th>isic_2l</th>\n",
       "      <td>NaN</td>\n",
       "      <td>-0.004735</td>\n",
       "      <td>0.002628</td>\n",
       "      <td>-0.010149</td>\n",
       "      <td>0.013932</td>\n",
       "      <td>0.013932</td>\n",
       "      <td>0.012080</td>\n",
       "      <td>0.009897</td>\n",
       "      <td>0.000044</td>\n",
       "      <td>-0.001442</td>\n",
       "      <td>...</td>\n",
       "      <td>0.002334</td>\n",
       "      <td>-0.001755</td>\n",
       "      <td>-0.018475</td>\n",
       "      <td>0.000055</td>\n",
       "      <td>-0.018974</td>\n",
       "      <td>0.000279</td>\n",
       "      <td>1.000000</td>\n",
       "      <td>0.003206</td>\n",
       "      <td>0.018241</td>\n",
       "      <td>0.018241</td>\n",
       "    </tr>\n",
       "    <tr>\n",
       "      <th>forecast_price_energy_p2</th>\n",
       "      <td>NaN</td>\n",
       "      <td>0.151391</td>\n",
       "      <td>0.078032</td>\n",
       "      <td>0.129710</td>\n",
       "      <td>0.320765</td>\n",
       "      <td>0.320765</td>\n",
       "      <td>0.364796</td>\n",
       "      <td>0.249187</td>\n",
       "      <td>0.244962</td>\n",
       "      <td>0.227221</td>\n",
       "      <td>...</td>\n",
       "      <td>0.060460</td>\n",
       "      <td>0.072786</td>\n",
       "      <td>0.029949</td>\n",
       "      <td>0.255053</td>\n",
       "      <td>0.103643</td>\n",
       "      <td>0.336300</td>\n",
       "      <td>-0.010946</td>\n",
       "      <td>-0.000612</td>\n",
       "      <td>0.025274</td>\n",
       "      <td>0.025274</td>\n",
       "    </tr>\n",
       "    <tr>\n",
       "      <th>net_margin</th>\n",
       "      <td>NaN</td>\n",
       "      <td>0.129209</td>\n",
       "      <td>0.065520</td>\n",
       "      <td>0.103407</td>\n",
       "      <td>0.469259</td>\n",
       "      <td>0.469259</td>\n",
       "      <td>0.669132</td>\n",
       "      <td>0.459744</td>\n",
       "      <td>0.780906</td>\n",
       "      <td>0.544711</td>\n",
       "      <td>...</td>\n",
       "      <td>-0.113209</td>\n",
       "      <td>-0.098732</td>\n",
       "      <td>0.005088</td>\n",
       "      <td>1.000000</td>\n",
       "      <td>0.035963</td>\n",
       "      <td>0.458071</td>\n",
       "      <td>0.000055</td>\n",
       "      <td>0.004649</td>\n",
       "      <td>0.029845</td>\n",
       "      <td>0.029845</td>\n",
       "    </tr>\n",
       "    <tr>\n",
       "      <th>forecast_meter_rent_12m</th>\n",
       "      <td>NaN</td>\n",
       "      <td>0.087659</td>\n",
       "      <td>0.044008</td>\n",
       "      <td>0.076811</td>\n",
       "      <td>0.396209</td>\n",
       "      <td>0.396209</td>\n",
       "      <td>0.490118</td>\n",
       "      <td>0.285670</td>\n",
       "      <td>0.384278</td>\n",
       "      <td>0.325850</td>\n",
       "      <td>...</td>\n",
       "      <td>-0.015392</td>\n",
       "      <td>0.004404</td>\n",
       "      <td>0.003845</td>\n",
       "      <td>0.340470</td>\n",
       "      <td>0.107228</td>\n",
       "      <td>0.596201</td>\n",
       "      <td>-0.002341</td>\n",
       "      <td>-0.001369</td>\n",
       "      <td>0.030122</td>\n",
       "      <td>0.030122</td>\n",
       "    </tr>\n",
       "    <tr>\n",
       "      <th>zip</th>\n",
       "      <td>NaN</td>\n",
       "      <td>-0.002347</td>\n",
       "      <td>-0.003277</td>\n",
       "      <td>-0.004558</td>\n",
       "      <td>0.015741</td>\n",
       "      <td>0.015741</td>\n",
       "      <td>0.020576</td>\n",
       "      <td>0.014785</td>\n",
       "      <td>0.000422</td>\n",
       "      <td>-0.003494</td>\n",
       "      <td>...</td>\n",
       "      <td>0.004125</td>\n",
       "      <td>0.006017</td>\n",
       "      <td>0.001418</td>\n",
       "      <td>0.004649</td>\n",
       "      <td>0.013824</td>\n",
       "      <td>-0.004278</td>\n",
       "      <td>0.003206</td>\n",
       "      <td>1.000000</td>\n",
       "      <td>0.049957</td>\n",
       "      <td>0.049957</td>\n",
       "    </tr>\n",
       "    <tr>\n",
       "      <th>margin_net_pow_ele</th>\n",
       "      <td>NaN</td>\n",
       "      <td>-0.045310</td>\n",
       "      <td>-0.013805</td>\n",
       "      <td>-0.037992</td>\n",
       "      <td>-0.063275</td>\n",
       "      <td>-0.063275</td>\n",
       "      <td>-0.101275</td>\n",
       "      <td>-0.080051</td>\n",
       "      <td>-0.144316</td>\n",
       "      <td>-0.108729</td>\n",
       "      <td>...</td>\n",
       "      <td>0.730983</td>\n",
       "      <td>1.000000</td>\n",
       "      <td>-0.032315</td>\n",
       "      <td>-0.098732</td>\n",
       "      <td>-0.031848</td>\n",
       "      <td>0.001617</td>\n",
       "      <td>-0.001755</td>\n",
       "      <td>0.006017</td>\n",
       "      <td>0.063255</td>\n",
       "      <td>0.063255</td>\n",
       "    </tr>\n",
       "    <tr>\n",
       "      <th>margin_gross_pow_ele</th>\n",
       "      <td>NaN</td>\n",
       "      <td>-0.066941</td>\n",
       "      <td>-0.022804</td>\n",
       "      <td>-0.056351</td>\n",
       "      <td>-0.094857</td>\n",
       "      <td>-0.094857</td>\n",
       "      <td>-0.145461</td>\n",
       "      <td>-0.110740</td>\n",
       "      <td>-0.184038</td>\n",
       "      <td>-0.139435</td>\n",
       "      <td>...</td>\n",
       "      <td>1.000000</td>\n",
       "      <td>0.730983</td>\n",
       "      <td>-0.043018</td>\n",
       "      <td>-0.113209</td>\n",
       "      <td>-0.078031</td>\n",
       "      <td>-0.007574</td>\n",
       "      <td>0.002334</td>\n",
       "      <td>0.004125</td>\n",
       "      <td>0.080302</td>\n",
       "      <td>0.080302</td>\n",
       "    </tr>\n",
       "    <tr>\n",
       "      <th>churn</th>\n",
       "      <td>NaN</td>\n",
       "      <td>-0.051862</td>\n",
       "      <td>-0.040707</td>\n",
       "      <td>-0.046903</td>\n",
       "      <td>0.001614</td>\n",
       "      <td>0.001614</td>\n",
       "      <td>0.008204</td>\n",
       "      <td>-0.004164</td>\n",
       "      <td>0.007897</td>\n",
       "      <td>0.003091</td>\n",
       "      <td>...</td>\n",
       "      <td>0.080302</td>\n",
       "      <td>0.063255</td>\n",
       "      <td>-0.022343</td>\n",
       "      <td>0.029845</td>\n",
       "      <td>-0.071515</td>\n",
       "      <td>0.009836</td>\n",
       "      <td>0.018241</td>\n",
       "      <td>0.049957</td>\n",
       "      <td>1.000000</td>\n",
       "      <td>1.000000</td>\n",
       "    </tr>\n",
       "    <tr>\n",
       "      <th>Churn_probability</th>\n",
       "      <td>NaN</td>\n",
       "      <td>-0.051862</td>\n",
       "      <td>-0.040707</td>\n",
       "      <td>-0.046903</td>\n",
       "      <td>0.001614</td>\n",
       "      <td>0.001614</td>\n",
       "      <td>0.008204</td>\n",
       "      <td>-0.004164</td>\n",
       "      <td>0.007897</td>\n",
       "      <td>0.003091</td>\n",
       "      <td>...</td>\n",
       "      <td>0.080302</td>\n",
       "      <td>0.063255</td>\n",
       "      <td>-0.022343</td>\n",
       "      <td>0.029845</td>\n",
       "      <td>-0.071515</td>\n",
       "      <td>0.009836</td>\n",
       "      <td>0.018241</td>\n",
       "      <td>0.049957</td>\n",
       "      <td>1.000000</td>\n",
       "      <td>1.000000</td>\n",
       "    </tr>\n",
       "    <tr>\n",
       "      <th>campaign_disc_ele</th>\n",
       "      <td>NaN</td>\n",
       "      <td>NaN</td>\n",
       "      <td>NaN</td>\n",
       "      <td>NaN</td>\n",
       "      <td>NaN</td>\n",
       "      <td>NaN</td>\n",
       "      <td>NaN</td>\n",
       "      <td>NaN</td>\n",
       "      <td>NaN</td>\n",
       "      <td>NaN</td>\n",
       "      <td>...</td>\n",
       "      <td>NaN</td>\n",
       "      <td>NaN</td>\n",
       "      <td>NaN</td>\n",
       "      <td>NaN</td>\n",
       "      <td>NaN</td>\n",
       "      <td>NaN</td>\n",
       "      <td>NaN</td>\n",
       "      <td>NaN</td>\n",
       "      <td>NaN</td>\n",
       "      <td>NaN</td>\n",
       "    </tr>\n",
       "  </tbody>\n",
       "</table>\n",
       "<p>26 rows × 26 columns</p>\n",
       "</div>"
      ],
      "text/plain": [
       "                          campaign_disc_ele  cons_12m  cons_gas_12m  \\\n",
       "num_years_antig                         NaN  0.004497     -0.013291   \n",
       "cons_12m                                NaN  1.000000      0.491418   \n",
       "cons_last_month                         NaN  0.927363      0.469557   \n",
       "cons_gas_12m                            NaN  0.491418      1.000000   \n",
       "nb_prod_act                             NaN  0.307299      0.270177   \n",
       "forecast_cons                           NaN  0.131562      0.075786   \n",
       "forecast_price_energy_p1                NaN -0.036510     -0.024927   \n",
       "forecast_base_bill_ele                  NaN  0.136303      0.087278   \n",
       "forecast_base_bill_year                 NaN  0.136303      0.087278   \n",
       "forecast_cons_year                      NaN  0.148705      0.065170   \n",
       "imp_cons                                NaN  0.146960      0.066039   \n",
       "forecast_price_pow_p1                   NaN -0.026028     -0.027459   \n",
       "forecast_cons_12m                       NaN  0.169948      0.067824   \n",
       "forecast_bill_12m                       NaN  0.162994      0.090273   \n",
       "pow_max                                 NaN  0.108745      0.054788   \n",
       "forecast_discount_energy                NaN -0.044540     -0.018165   \n",
       "isic_2l                                 NaN -0.004735      0.002628   \n",
       "forecast_price_energy_p2                NaN  0.151391      0.078032   \n",
       "net_margin                              NaN  0.129209      0.065520   \n",
       "forecast_meter_rent_12m                 NaN  0.087659      0.044008   \n",
       "zip                                     NaN -0.002347     -0.003277   \n",
       "margin_net_pow_ele                      NaN -0.045310     -0.013805   \n",
       "margin_gross_pow_ele                    NaN -0.066941     -0.022804   \n",
       "churn                                   NaN -0.051862     -0.040707   \n",
       "Churn_probability                       NaN -0.051862     -0.040707   \n",
       "campaign_disc_ele                       NaN       NaN           NaN   \n",
       "\n",
       "                          cons_last_month  forecast_base_bill_ele  \\\n",
       "num_years_antig                  0.001813                0.013914   \n",
       "cons_12m                         0.927363                0.136303   \n",
       "cons_last_month                  1.000000                0.145301   \n",
       "cons_gas_12m                     0.469557                0.087278   \n",
       "nb_prod_act                      0.354386                0.039601   \n",
       "forecast_cons                    0.143220                0.965047   \n",
       "forecast_price_energy_p1        -0.026823               -0.203675   \n",
       "forecast_base_bill_ele           0.145301                1.000000   \n",
       "forecast_base_bill_year          0.145301                1.000000   \n",
       "forecast_cons_year               0.159505                0.966610   \n",
       "imp_cons                         0.160277                0.965047   \n",
       "forecast_price_pow_p1           -0.021321                0.096718   \n",
       "forecast_cons_12m                0.133626                0.728622   \n",
       "forecast_bill_12m                0.145732                0.755829   \n",
       "pow_max                          0.092945                0.542454   \n",
       "forecast_discount_energy        -0.039100                0.008115   \n",
       "isic_2l                         -0.010149                0.013932   \n",
       "forecast_price_energy_p2         0.129710                0.320765   \n",
       "net_margin                       0.103407                0.469259   \n",
       "forecast_meter_rent_12m          0.076811                0.396209   \n",
       "zip                             -0.004558                0.015741   \n",
       "margin_net_pow_ele              -0.037992               -0.063275   \n",
       "margin_gross_pow_ele            -0.056351               -0.094857   \n",
       "churn                           -0.046903                0.001614   \n",
       "Churn_probability               -0.046903                0.001614   \n",
       "campaign_disc_ele                     NaN                     NaN   \n",
       "\n",
       "                          forecast_base_bill_year  forecast_bill_12m  \\\n",
       "num_years_antig                          0.013914           0.027831   \n",
       "cons_12m                                 0.136303           0.162994   \n",
       "cons_last_month                          0.145301           0.145732   \n",
       "cons_gas_12m                             0.087278           0.090273   \n",
       "nb_prod_act                              0.039601           0.040628   \n",
       "forecast_cons                            0.965047           0.677617   \n",
       "forecast_price_energy_p1                -0.203675          -0.259594   \n",
       "forecast_base_bill_ele                   1.000000           0.755829   \n",
       "forecast_base_bill_year                  1.000000           0.755829   \n",
       "forecast_cons_year                       0.966610           0.732996   \n",
       "imp_cons                                 0.965047           0.677617   \n",
       "forecast_price_pow_p1                    0.096718           0.146325   \n",
       "forecast_cons_12m                        0.728622           0.972744   \n",
       "forecast_bill_12m                        0.755829           1.000000   \n",
       "pow_max                                  0.542454           0.724154   \n",
       "forecast_discount_energy                 0.008115           0.001521   \n",
       "isic_2l                                  0.013932           0.012080   \n",
       "forecast_price_energy_p2                 0.320765           0.364796   \n",
       "net_margin                               0.469259           0.669132   \n",
       "forecast_meter_rent_12m                  0.396209           0.490118   \n",
       "zip                                      0.015741           0.020576   \n",
       "margin_net_pow_ele                      -0.063275          -0.101275   \n",
       "margin_gross_pow_ele                    -0.094857          -0.145461   \n",
       "churn                                    0.001614           0.008204   \n",
       "Churn_probability                        0.001614           0.008204   \n",
       "campaign_disc_ele                             NaN                NaN   \n",
       "\n",
       "                          forecast_cons  forecast_cons_12m  \\\n",
       "num_years_antig                0.002359           0.062750   \n",
       "cons_12m                       0.131562           0.169948   \n",
       "cons_last_month                0.143220           0.133626   \n",
       "cons_gas_12m                   0.075786           0.067824   \n",
       "nb_prod_act                    0.040788           0.016059   \n",
       "forecast_cons                  1.000000           0.695480   \n",
       "forecast_price_energy_p1      -0.139439          -0.216231   \n",
       "forecast_base_bill_ele         0.965047           0.728622   \n",
       "forecast_base_bill_year        0.965047           0.728622   \n",
       "forecast_cons_year             0.980648           0.738146   \n",
       "imp_cons                       1.000000           0.711271   \n",
       "forecast_price_pow_p1          0.063335           0.051871   \n",
       "forecast_cons_12m              0.695480           1.000000   \n",
       "forecast_bill_12m              0.677617           0.972744   \n",
       "pow_max                        0.402466           0.571882   \n",
       "forecast_discount_energy       0.019797           0.016561   \n",
       "isic_2l                        0.009897           0.000044   \n",
       "forecast_price_energy_p2       0.249187           0.244962   \n",
       "net_margin                     0.459744           0.780906   \n",
       "forecast_meter_rent_12m        0.285670           0.384278   \n",
       "zip                            0.014785           0.000422   \n",
       "margin_net_pow_ele            -0.080051          -0.144316   \n",
       "margin_gross_pow_ele          -0.110740          -0.184038   \n",
       "churn                         -0.004164           0.007897   \n",
       "Churn_probability             -0.004164           0.007897   \n",
       "campaign_disc_ele                   NaN                NaN   \n",
       "\n",
       "                          forecast_cons_year        ...          \\\n",
       "num_years_antig                     0.064764        ...           \n",
       "cons_12m                            0.148705        ...           \n",
       "cons_last_month                     0.159505        ...           \n",
       "cons_gas_12m                        0.065170        ...           \n",
       "nb_prod_act                         0.018714        ...           \n",
       "forecast_cons                       0.980648        ...           \n",
       "forecast_price_energy_p1           -0.202210        ...           \n",
       "forecast_base_bill_ele              0.966610        ...           \n",
       "forecast_base_bill_year             0.966610        ...           \n",
       "forecast_cons_year                  1.000000        ...           \n",
       "imp_cons                            0.982143        ...           \n",
       "forecast_price_pow_p1               0.048879        ...           \n",
       "forecast_cons_12m                   0.738146        ...           \n",
       "forecast_bill_12m                   0.732996        ...           \n",
       "pow_max                             0.434038        ...           \n",
       "forecast_discount_energy           -0.007582        ...           \n",
       "isic_2l                            -0.001442        ...           \n",
       "forecast_price_energy_p2            0.227221        ...           \n",
       "net_margin                          0.544711        ...           \n",
       "forecast_meter_rent_12m             0.325850        ...           \n",
       "zip                                -0.003494        ...           \n",
       "margin_net_pow_ele                 -0.108729        ...           \n",
       "margin_gross_pow_ele               -0.139435        ...           \n",
       "churn                               0.003091        ...           \n",
       "Churn_probability                   0.003091        ...           \n",
       "campaign_disc_ele                        NaN        ...           \n",
       "\n",
       "                          margin_gross_pow_ele  margin_net_pow_ele  \\\n",
       "num_years_antig                      -0.078031           -0.031848   \n",
       "cons_12m                             -0.066941           -0.045310   \n",
       "cons_last_month                      -0.056351           -0.037992   \n",
       "cons_gas_12m                         -0.022804           -0.013805   \n",
       "nb_prod_act                          -0.043018           -0.032315   \n",
       "forecast_cons                        -0.110740           -0.080051   \n",
       "forecast_price_energy_p1              0.177533            0.009074   \n",
       "forecast_base_bill_ele               -0.094857           -0.063275   \n",
       "forecast_base_bill_year              -0.094857           -0.063275   \n",
       "forecast_cons_year                   -0.139435           -0.108729   \n",
       "imp_cons                             -0.121556           -0.094539   \n",
       "forecast_price_pow_p1                -0.115756           -0.141828   \n",
       "forecast_cons_12m                    -0.184038           -0.144316   \n",
       "forecast_bill_12m                    -0.145461           -0.101275   \n",
       "pow_max                              -0.007574            0.001617   \n",
       "forecast_discount_energy              0.193115            0.128176   \n",
       "isic_2l                               0.002334           -0.001755   \n",
       "forecast_price_energy_p2              0.060460            0.072786   \n",
       "net_margin                           -0.113209           -0.098732   \n",
       "forecast_meter_rent_12m              -0.015392            0.004404   \n",
       "zip                                   0.004125            0.006017   \n",
       "margin_net_pow_ele                    0.730983            1.000000   \n",
       "margin_gross_pow_ele                  1.000000            0.730983   \n",
       "churn                                 0.080302            0.063255   \n",
       "Churn_probability                     0.080302            0.063255   \n",
       "campaign_disc_ele                          NaN                 NaN   \n",
       "\n",
       "                          nb_prod_act  net_margin  num_years_antig   pow_max  \\\n",
       "num_years_antig              0.006884    0.035963         1.000000  0.083688   \n",
       "cons_12m                     0.307299    0.129209         0.004497  0.108745   \n",
       "cons_last_month              0.354386    0.103407         0.001813  0.092945   \n",
       "cons_gas_12m                 0.270177    0.065520        -0.013291  0.054788   \n",
       "nb_prod_act                  1.000000    0.005088         0.006884  0.019412   \n",
       "forecast_cons                0.040788    0.459744         0.002359  0.402466   \n",
       "forecast_price_energy_p1     0.023245   -0.189652        -0.195577 -0.353401   \n",
       "forecast_base_bill_ele       0.039601    0.469259         0.013914  0.542454   \n",
       "forecast_base_bill_year      0.039601    0.469259         0.013914  0.542454   \n",
       "forecast_cons_year           0.018714    0.544711         0.064764  0.434038   \n",
       "imp_cons                     0.022885    0.536603         0.049617  0.394870   \n",
       "forecast_price_pow_p1       -0.009175   -0.011044        -0.037048  0.060276   \n",
       "forecast_cons_12m            0.016059    0.780906         0.062750  0.571882   \n",
       "forecast_bill_12m            0.040628    0.669132         0.027831  0.724154   \n",
       "pow_max                      0.019412    0.458071         0.083688  1.000000   \n",
       "forecast_discount_energy     0.058164    0.008168        -0.068949 -0.024976   \n",
       "isic_2l                     -0.018475    0.000055        -0.018974  0.000279   \n",
       "forecast_price_energy_p2     0.029949    0.255053         0.103643  0.336300   \n",
       "net_margin                   0.005088    1.000000         0.035963  0.458071   \n",
       "forecast_meter_rent_12m      0.003845    0.340470         0.107228  0.596201   \n",
       "zip                          0.001418    0.004649         0.013824 -0.004278   \n",
       "margin_net_pow_ele          -0.032315   -0.098732        -0.031848  0.001617   \n",
       "margin_gross_pow_ele        -0.043018   -0.113209        -0.078031 -0.007574   \n",
       "churn                       -0.022343    0.029845        -0.071515  0.009836   \n",
       "Churn_probability           -0.022343    0.029845        -0.071515  0.009836   \n",
       "campaign_disc_ele                 NaN         NaN              NaN       NaN   \n",
       "\n",
       "                           isic_2l       zip     churn  Churn_probability  \n",
       "num_years_antig          -0.018974  0.013824 -0.071515          -0.071515  \n",
       "cons_12m                 -0.004735 -0.002347 -0.051862          -0.051862  \n",
       "cons_last_month          -0.010149 -0.004558 -0.046903          -0.046903  \n",
       "cons_gas_12m              0.002628 -0.003277 -0.040707          -0.040707  \n",
       "nb_prod_act              -0.018475  0.001418 -0.022343          -0.022343  \n",
       "forecast_cons             0.009897  0.014785 -0.004164          -0.004164  \n",
       "forecast_price_energy_p1  0.002867  0.000376 -0.003604          -0.003604  \n",
       "forecast_base_bill_ele    0.013932  0.015741  0.001614           0.001614  \n",
       "forecast_base_bill_year   0.013932  0.015741  0.001614           0.001614  \n",
       "forecast_cons_year       -0.001442 -0.003494  0.003091           0.003091  \n",
       "imp_cons                 -0.000445 -0.002354  0.003762           0.003762  \n",
       "forecast_price_pow_p1    -0.007630  0.004734  0.004126           0.004126  \n",
       "forecast_cons_12m         0.000044  0.000422  0.007897           0.007897  \n",
       "forecast_bill_12m         0.012080  0.020576  0.008204           0.008204  \n",
       "pow_max                   0.000279 -0.004278  0.009836           0.009836  \n",
       "forecast_discount_energy -0.003425 -0.005793  0.012604           0.012604  \n",
       "isic_2l                   1.000000  0.003206  0.018241           0.018241  \n",
       "forecast_price_energy_p2 -0.010946 -0.000612  0.025274           0.025274  \n",
       "net_margin                0.000055  0.004649  0.029845           0.029845  \n",
       "forecast_meter_rent_12m  -0.002341 -0.001369  0.030122           0.030122  \n",
       "zip                       0.003206  1.000000  0.049957           0.049957  \n",
       "margin_net_pow_ele       -0.001755  0.006017  0.063255           0.063255  \n",
       "margin_gross_pow_ele      0.002334  0.004125  0.080302           0.080302  \n",
       "churn                     0.018241  0.049957  1.000000           1.000000  \n",
       "Churn_probability         0.018241  0.049957  1.000000           1.000000  \n",
       "campaign_disc_ele              NaN       NaN       NaN                NaN  \n",
       "\n",
       "[26 rows x 26 columns]"
      ]
     },
     "execution_count": 870,
     "metadata": {},
     "output_type": "execute_result"
    }
   ],
   "source": [
    "correlation=full.corr()\n",
    "correlation.sort_values(by='churn')"
   ]
  },
  {
   "cell_type": "code",
   "execution_count": 871,
   "metadata": {},
   "outputs": [
    {
     "data": {
      "image/png": "[encoded data removed]",
      "text/plain": [
       "<Figure size 504x504 with 3 Axes>"
      ]
     },
     "metadata": {},
     "output_type": "display_data"
    }
   ],
   "source": [
    "sns.jointplot(x=\"churn\", y=\"margin_gross_pow_ele\", data=full, kind = 'reg', size = 7)\n",
    "plt.show()"
   ]
  },
  {
   "cell_type": "code",
   "execution_count": 872,
   "metadata": {},
   "outputs": [
    {
     "data": {
      "text/plain": [
       "<bound method IndexOpsMixin.nunique of 0        2012-11-07\n",
       "1               NaN\n",
       "2        2009-10-26\n",
       "3        2012-05-15\n",
       "4        2013-01-01\n",
       "5        2015-08-04\n",
       "6        2010-06-15\n",
       "7        2015-07-10\n",
       "8        2015-05-24\n",
       "9        2009-08-21\n",
       "10       2012-07-09\n",
       "11       2010-09-20\n",
       "12       2010-04-16\n",
       "13       2010-03-30\n",
       "14       2011-03-03\n",
       "15       2009-07-15\n",
       "16       2015-07-23\n",
       "17       2005-04-19\n",
       "18       2014-10-17\n",
       "19       2015-02-05\n",
       "20       2010-02-19\n",
       "21       2013-04-19\n",
       "22       2015-11-01\n",
       "23       2010-04-08\n",
       "24       2012-08-17\n",
       "25       2010-02-08\n",
       "26       2011-05-05\n",
       "27       2015-12-15\n",
       "28       2015-07-12\n",
       "29       2009-09-01\n",
       "            ...    \n",
       "20069    2013-05-04\n",
       "20070    2011-04-04\n",
       "20071    2015-10-07\n",
       "20072    2010-06-14\n",
       "20073    2010-01-14\n",
       "20074    2009-10-07\n",
       "20075    2010-03-04\n",
       "20076    2010-11-08\n",
       "20077    2015-07-24\n",
       "20078    2009-10-01\n",
       "20079    2015-05-01\n",
       "20080    2015-11-16\n",
       "20081    2012-10-24\n",
       "20082    2011-08-08\n",
       "20083    2009-09-17\n",
       "20084    2013-05-09\n",
       "20085    2015-11-18\n",
       "20086    2015-08-27\n",
       "20087    2014-03-20\n",
       "20088    2015-04-29\n",
       "20089    2015-12-17\n",
       "20090    2015-08-26\n",
       "20091    2015-03-09\n",
       "20092    2015-05-22\n",
       "20093    2015-04-09\n",
       "20094    2012-04-09\n",
       "20095    2009-11-30\n",
       "20096    2015-04-14\n",
       "20097    2015-11-18\n",
       "20098    2009-06-23\n",
       "Name: date_modif_prod, Length: 20099, dtype: object>"
      ]
     },
     "execution_count": 872,
     "metadata": {},
     "output_type": "execute_result"
    }
   ],
   "source": [
    "full.date_modif_prod.nunique"
   ]
  },
  {
   "cell_type": "code",
   "execution_count": 873,
   "metadata": {},
   "outputs": [
    {
     "data": {
      "text/plain": [
       "array(['f', 't'], dtype=object)"
      ]
     },
     "execution_count": 873,
     "metadata": {},
     "output_type": "execute_result"
    }
   ],
   "source": [
    "full.has_gas.unique()"
   ]
  },
  {
   "cell_type": "code",
   "execution_count": 874,
   "metadata": {},
   "outputs": [
    {
     "data": {
      "image/png": "[encoded data removed]",
      "text/plain": [
       "<Figure size 864x288 with 1 Axes>"
      ]
     },
     "metadata": {},
     "output_type": "display_data"
    }
   ],
   "source": [
    "fig, ax = plt.subplots(figsize=(12,4))\n",
    "sns.boxplot(x = 'net_margin', data =full, orient = 'h', width = 0.8, \n",
    "                 fliersize = 3, showmeans=True, ax = ax)\n",
    "plt.show()\n"
   ]
  },
  {
   "cell_type": "code",
   "execution_count": 875,
   "metadata": {},
   "outputs": [
    {
     "data": {
      "text/plain": [
       "masked_array(data=[1494.57,  678.99,   40.23, ...,  171.13,   65.06,\n",
       "                    180.78],\n",
       "             mask=False,\n",
       "       fill_value=1e+20)"
      ]
     },
     "execution_count": 875,
     "metadata": {},
     "output_type": "execute_result"
    }
   ],
   "source": [
    "scipy.stats.mstats.winsorize(full['net_margin'], limits=0.01,inplace=True)"
   ]
  },
  {
   "cell_type": "code",
   "execution_count": 876,
   "metadata": {},
   "outputs": [
    {
     "data": {
      "image/png": "[encoded data removed]",
      "text/plain": [
       "<Figure size 864x288 with 1 Axes>"
      ]
     },
     "metadata": {},
     "output_type": "display_data"
    }
   ],
   "source": [
    "fig, ax = plt.subplots(figsize=(12,4))\n",
    "sns.boxplot(x = 'net_margin', data =full, orient = 'h', width = 0.8, \n",
    "                 fliersize = 3, showmeans=True, ax = ax)\n",
    "plt.show()\n"
   ]
  },
  {
   "cell_type": "code",
   "execution_count": 877,
   "metadata": {},
   "outputs": [
    {
     "data": {
      "image/png": "[encoded data removed]",
      "text/plain": [
       "<Figure size 864x288 with 1 Axes>"
      ]
     },
     "metadata": {},
     "output_type": "display_data"
    }
   ],
   "source": [
    "fig, ax = plt.subplots(figsize=(12,4))\n",
    "sns.boxplot(x = 'imp_cons', data =full, orient = 'h', width = 0.8, \n",
    "                 fliersize = 3, showmeans=True, ax = ax)\n",
    "plt.show()\n"
   ]
  },
  {
   "cell_type": "code",
   "execution_count": 878,
   "metadata": {},
   "outputs": [
    {
     "data": {
      "text/plain": [
       "masked_array(data=[831.8 ,   0.  , 276.82, ...,   0.  ,  56.34,   0.  ],\n",
       "             mask=False,\n",
       "       fill_value=1e+20)"
      ]
     },
     "execution_count": 878,
     "metadata": {},
     "output_type": "execute_result"
    }
   ],
   "source": [
    "scipy.stats.mstats.winsorize(full['imp_cons'], limits=0.01,inplace=True)"
   ]
  },
  {
   "cell_type": "code",
   "execution_count": 879,
   "metadata": {},
   "outputs": [
    {
     "data": {
      "image/png": "[encoded data removed]",
      "text/plain": [
       "<Figure size 864x288 with 1 Axes>"
      ]
     },
     "metadata": {},
     "output_type": "display_data"
    }
   ],
   "source": [
    "fig, ax = plt.subplots(figsize=(12,4))\n",
    "sns.boxplot(x = 'imp_cons', data =full, orient = 'h', width = 0.8, \n",
    "                 fliersize = 3, showmeans=True, ax = ax)\n",
    "plt.show()\n"
   ]
  },
  {
   "cell_type": "code",
   "execution_count": 880,
   "metadata": {},
   "outputs": [
    {
     "data": {
      "text/plain": [
       "Index(['id', 'campaign_disc_ele', 'channel_sales', 'cons_12m', 'cons_gas_12m',\n",
       "       'cons_last_month', 'date_activ', 'date_end', 'date_first_activ',\n",
       "       'date_modif_prod', 'date_renewal', 'forecast_base_bill_ele',\n",
       "       'forecast_base_bill_year', 'forecast_bill_12m', 'forecast_cons',\n",
       "       'forecast_cons_12m', 'forecast_cons_year', 'forecast_discount_energy',\n",
       "       'forecast_meter_rent_12m', 'forecast_price_energy_p1',\n",
       "       'forecast_price_energy_p2', 'forecast_price_pow_p1', 'has_gas',\n",
       "       'imp_cons', 'margin_gross_pow_ele', 'margin_net_pow_ele', 'nb_prod_act',\n",
       "       'net_margin', 'num_years_antig', 'origin_up', 'pow_max', 'isic_1l',\n",
       "       'isic_2l', 'zip', 'churn', 'Churn_probability'],\n",
       "      dtype='object')"
      ]
     },
     "execution_count": 880,
     "metadata": {},
     "output_type": "execute_result"
    }
   ],
   "source": [
    "full.columns"
   ]
  },
  {
   "cell_type": "code",
   "execution_count": 881,
   "metadata": {},
   "outputs": [
    {
     "data": {
      "text/plain": [
       "array([309275,      0,  35446, ...,   6354,  11953,  15530])"
      ]
     },
     "execution_count": 881,
     "metadata": {},
     "output_type": "execute_result"
    }
   ],
   "source": [
    "full.cons_12m.unique()"
   ]
  },
  {
   "cell_type": "code",
   "execution_count": 882,
   "metadata": {},
   "outputs": [
    {
     "data": {
      "image/png": "[encoded data removed]",
      "text/plain": [
       "<Figure size 864x288 with 1 Axes>"
      ]
     },
     "metadata": {},
     "output_type": "display_data"
    }
   ],
   "source": [
    "fig, ax = plt.subplots(figsize=(12,4))\n",
    "sns.boxplot(x = 'cons_12m', data =full, orient = 'h', width = 0.8, \n",
    "                 fliersize = 3, showmeans=True, ax = ax)\n",
    "plt.show()\n"
   ]
  },
  {
   "cell_type": "code",
   "execution_count": 883,
   "metadata": {},
   "outputs": [
    {
     "data": {
      "text/plain": [
       "masked_array(data=[309275,      2,  35446, ...,  11953,  39033,  15530],\n",
       "             mask=False,\n",
       "       fill_value=999999)"
      ]
     },
     "execution_count": 883,
     "metadata": {},
     "output_type": "execute_result"
    }
   ],
   "source": [
    "scipy.stats.mstats.winsorize(full['cons_12m'], limits=0.01,inplace=True)"
   ]
  },
  {
   "cell_type": "code",
   "execution_count": 884,
   "metadata": {},
   "outputs": [
    {
     "data": {
      "image/png": "[encoded data removed]",
      "text/plain": [
       "<Figure size 864x288 with 1 Axes>"
      ]
     },
     "metadata": {},
     "output_type": "display_data"
    }
   ],
   "source": [
    "fig, ax = plt.subplots(figsize=(12,4))\n",
    "sns.boxplot(x = 'cons_12m', data =full, orient = 'h', width = 0.8, \n",
    "                 fliersize = 3, showmeans=True, ax = ax)\n",
    "plt.show()\n"
   ]
  },
  {
   "cell_type": "code",
   "execution_count": 885,
   "metadata": {},
   "outputs": [
    {
     "data": {
      "text/plain": [
       "Index(['id', 'campaign_disc_ele', 'channel_sales', 'cons_12m', 'cons_gas_12m',\n",
       "       'cons_last_month', 'date_activ', 'date_end', 'date_first_activ',\n",
       "       'date_modif_prod', 'date_renewal', 'forecast_base_bill_ele',\n",
       "       'forecast_base_bill_year', 'forecast_bill_12m', 'forecast_cons',\n",
       "       'forecast_cons_12m', 'forecast_cons_year', 'forecast_discount_energy',\n",
       "       'forecast_meter_rent_12m', 'forecast_price_energy_p1',\n",
       "       'forecast_price_energy_p2', 'forecast_price_pow_p1', 'has_gas',\n",
       "       'imp_cons', 'margin_gross_pow_ele', 'margin_net_pow_ele', 'nb_prod_act',\n",
       "       'net_margin', 'num_years_antig', 'origin_up', 'pow_max', 'isic_1l',\n",
       "       'isic_2l', 'zip', 'churn', 'Churn_probability'],\n",
       "      dtype='object')"
      ]
     },
     "execution_count": 885,
     "metadata": {},
     "output_type": "execute_result"
    }
   ],
   "source": [
    "full.columns"
   ]
  },
  {
   "cell_type": "code",
   "execution_count": 886,
   "metadata": {},
   "outputs": [
    {
     "name": "stdout",
     "output_type": "stream",
     "text": [
      "14198\n",
      "2809\n"
     ]
    }
   ],
   "source": [
    "print(len(full.cons_12m.unique()))\n",
    "print(len(full.cons_gas_12m.unique()))"
   ]
  },
  {
   "cell_type": "code",
   "execution_count": 887,
   "metadata": {},
   "outputs": [
    {
     "data": {
      "text/plain": [
       "3692"
      ]
     },
     "execution_count": 887,
     "metadata": {},
     "output_type": "execute_result"
    }
   ],
   "source": [
    "sum(full.has_gas=='t')# hay gente que tiene gas contratado y no se sabe el consumo de los últimos 12 meses\n",
    "# generar variable con la gente que falta info\n",
    "#generar variable que le de la mediana a estos"
   ]
  },
  {
   "cell_type": "code",
   "execution_count": 888,
   "metadata": {},
   "outputs": [
    {
     "data": {
      "text/plain": [
       "16407"
      ]
     },
     "execution_count": 888,
     "metadata": {},
     "output_type": "execute_result"
    }
   ],
   "source": [
    "sum(full.has_gas == 'f')"
   ]
  },
  {
   "cell_type": "code",
   "execution_count": 889,
   "metadata": {},
   "outputs": [
    {
     "data": {
      "image/png": "[encoded data removed]",
      "text/plain": [
       "<Figure size 864x288 with 1 Axes>"
      ]
     },
     "metadata": {},
     "output_type": "display_data"
    }
   ],
   "source": [
    "fig, ax = plt.subplots(figsize=(12,4))\n",
    "sns.boxplot(x = 'imp_cons', data =full, orient = 'h', width = 0.8, \n",
    "                 fliersize = 3, showmeans=True, ax = ax)\n",
    "plt.show()\n"
   ]
  },
  {
   "cell_type": "code",
   "execution_count": 890,
   "metadata": {},
   "outputs": [
    {
     "data": {
      "image/png": "[encoded data removed]",
      "text/plain": [
       "<Figure size 864x288 with 1 Axes>"
      ]
     },
     "metadata": {},
     "output_type": "display_data"
    }
   ],
   "source": [
    "full.margin_gross_pow_ele\n",
    "fig, ax = plt.subplots(figsize=(12,4))\n",
    "sns.boxplot(x = 'margin_gross_pow_ele', data =full, orient = 'h', width = 0.8, \n",
    "                 fliersize = 3, showmeans=True, ax = ax)\n",
    "plt.show()\n",
    "#Crear variable binaria con los que son negativos"
   ]
  },
  {
   "cell_type": "code",
   "execution_count": 891,
   "metadata": {},
   "outputs": [
    {
     "data": {
      "image/png": "[encoded data removed]",
      "text/plain": [
       "<Figure size 864x288 with 1 Axes>"
      ]
     },
     "metadata": {},
     "output_type": "display_data"
    }
   ],
   "source": [
    "full.columns\n",
    "full.margin_gross_pow_ele\n",
    "fig, ax = plt.subplots(figsize=(12,4))\n",
    "sns.boxplot(x = 'margin_net_pow_ele', data =full, orient = 'h', width = 0.8, \n",
    "                 fliersize = 3, showmeans=True, ax = ax)\n",
    "plt.show()\n",
    "#Crear variable binaria con los que son negativos"
   ]
  },
  {
   "cell_type": "code",
   "execution_count": 892,
   "metadata": {},
   "outputs": [
    {
     "data": {
      "image/png": "[encoded data removed]",
      "text/plain": [
       "<Figure size 864x288 with 1 Axes>"
      ]
     },
     "metadata": {},
     "output_type": "display_data"
    }
   ],
   "source": [
    "full.num_years_antig\n",
    "full.margin_gross_pow_ele\n",
    "fig, ax = plt.subplots(figsize=(12,4))\n",
    "sns.boxplot(x = 'num_years_antig', data =full, orient = 'h', width = 0.8, \n",
    "                 fliersize = 3, showmeans=True, ax = ax)\n",
    "plt.show()\n",
    "#Crear variable binaria con los mayores de un percentil"
   ]
  },
  {
   "cell_type": "code",
   "execution_count": 893,
   "metadata": {},
   "outputs": [
    {
     "data": {
      "text/plain": [
       "15    2768\n",
       "33    1922\n",
       "28    1530\n",
       "48    1490\n",
       "32     776\n",
       "Name: state, dtype: int64"
      ]
     },
     "execution_count": 893,
     "metadata": {},
     "output_type": "execute_result"
    }
   ],
   "source": [
    "#Crear variable con los dos primeros dígitos del zip\n",
    "#Diferentes tasas de abandono dependiendo de la comunidad\n",
    "full['state']=full.zip.apply(lambda x: str(x)[0:2])\n",
    "full.state.value_counts().head()"
   ]
  },
  {
   "cell_type": "code",
   "execution_count": 894,
   "metadata": {},
   "outputs": [
    {
     "data": {
      "text/plain": [
       "Index(['id', 'campaign_disc_ele', 'channel_sales', 'cons_12m', 'cons_gas_12m',\n",
       "       'cons_last_month', 'date_activ', 'date_end', 'date_first_activ',\n",
       "       'date_modif_prod', 'date_renewal', 'forecast_base_bill_ele',\n",
       "       'forecast_base_bill_year', 'forecast_bill_12m', 'forecast_cons',\n",
       "       'forecast_cons_12m', 'forecast_cons_year', 'forecast_discount_energy',\n",
       "       'forecast_meter_rent_12m', 'forecast_price_energy_p1',\n",
       "       'forecast_price_energy_p2', 'forecast_price_pow_p1', 'has_gas',\n",
       "       'imp_cons', 'margin_gross_pow_ele', 'margin_net_pow_ele', 'nb_prod_act',\n",
       "       'net_margin', 'num_years_antig', 'origin_up', 'pow_max', 'isic_1l',\n",
       "       'isic_2l', 'zip', 'churn', 'Churn_probability', 'state'],\n",
       "      dtype='object')"
      ]
     },
     "execution_count": 894,
     "metadata": {},
     "output_type": "execute_result"
    }
   ],
   "source": [
    "full.columns"
   ]
  },
  {
   "cell_type": "code",
   "execution_count": 895,
   "metadata": {},
   "outputs": [
    {
     "data": {
      "text/plain": [
       "83"
      ]
     },
     "execution_count": 895,
     "metadata": {},
     "output_type": "execute_result"
    }
   ],
   "source": [
    "len(full.isic_2l.unique())"
   ]
  },
  {
   "cell_type": "code",
   "execution_count": 896,
   "metadata": {},
   "outputs": [
    {
     "data": {
      "text/plain": [
       "19"
      ]
     },
     "execution_count": 896,
     "metadata": {},
     "output_type": "execute_result"
    }
   ],
   "source": [
    "len(full.isic_1l.unique())"
   ]
  },
  {
   "cell_type": "code",
   "execution_count": 897,
   "metadata": {},
   "outputs": [
    {
     "data": {
      "text/plain": [
       "['A',\n",
       " 'B',\n",
       " 'C',\n",
       " 'D',\n",
       " 'E',\n",
       " 'F',\n",
       " 'G',\n",
       " 'H',\n",
       " 'I',\n",
       " 'J',\n",
       " 'K',\n",
       " 'L',\n",
       " 'M',\n",
       " 'N',\n",
       " 'O',\n",
       " 'P',\n",
       " 'Q',\n",
       " 'R',\n",
       " 'S']"
      ]
     },
     "execution_count": 897,
     "metadata": {},
     "output_type": "execute_result"
    }
   ],
   "source": [
    "sorted(full.isic_1l.unique())"
   ]
  },
  {
   "cell_type": "code",
   "execution_count": 898,
   "metadata": {},
   "outputs": [
    {
     "data": {
      "text/plain": [
       "1"
      ]
     },
     "execution_count": 898,
     "metadata": {},
     "output_type": "execute_result"
    }
   ],
   "source": [
    "full.isic_2l.min()"
   ]
  },
  {
   "cell_type": "code",
   "execution_count": 899,
   "metadata": {},
   "outputs": [],
   "source": [
    "train_david=pd.read_csv('train_carlos.csv')"
   ]
  },
  {
   "cell_type": "code",
   "execution_count": 901,
   "metadata": {},
   "outputs": [],
   "source": [
    "features=pd.DataFrame(full['id'])"
   ]
  },
  {
   "cell_type": "code",
   "execution_count": 902,
   "metadata": {},
   "outputs": [],
   "source": [
    "features['net_margin_w']=scipy.stats.mstats.winsorize(full['net_margin'], limits=0.01,inplace=True)"
   ]
  },
  {
   "cell_type": "code",
   "execution_count": 903,
   "metadata": {},
   "outputs": [],
   "source": [
    "features['imp_cons_w']=scipy.stats.mstats.winsorize(full['imp_cons'], limits=0.01,inplace=True)"
   ]
  },
  {
   "cell_type": "code",
   "execution_count": 904,
   "metadata": {},
   "outputs": [],
   "source": [
    "features['cons_12m_w']=scipy.stats.mstats.winsorize(full['cons_12m'], limits=0.01,inplace=True)"
   ]
  },
  {
   "cell_type": "code",
   "execution_count": 905,
   "metadata": {},
   "outputs": [],
   "source": [
    "features['margin_gross_pow_ele_w']=scipy.stats.mstats.winsorize(full['margin_gross_pow_ele'], limits=0.01,inplace=True)\n"
   ]
  },
  {
   "cell_type": "code",
   "execution_count": 906,
   "metadata": {},
   "outputs": [],
   "source": [
    "features['margin_net_pow_ele_w']=scipy.stats.mstats.winsorize(full['margin_net_pow_ele'], limits=0.01,inplace=True)\n"
   ]
  },
  {
   "cell_type": "code",
   "execution_count": 907,
   "metadata": {},
   "outputs": [],
   "source": [
    "features['cons_12m_w']=scipy.stats.mstats.winsorize(full['cons_12m'], limits=0.01,inplace=True)"
   ]
  },
  {
   "cell_type": "code",
   "execution_count": 908,
   "metadata": {},
   "outputs": [
    {
     "data": {
      "text/plain": [
       "array(['lmkebamcaaclubfxadlmueccxoimlema',\n",
       "       'foosdfpfkusacimwkcsosbicdxkicaua', nan,\n",
       "       'ewpakwlliwisiwduibdlfmalxowmwpci',\n",
       "       'usilxuppasemubllopkaafesmlibmsdf',\n",
       "       'sddiedcslfslkckwlfkdpoeeailfpeds',\n",
       "       'epumfxlbckeskwekxbiuasklxalciiuu',\n",
       "       'fixdbufsefwooaasfcxdxadsiekoceaa'], dtype=object)"
      ]
     },
     "execution_count": 908,
     "metadata": {},
     "output_type": "execute_result"
    }
   ],
   "source": [
    "full.channel_sales.unique()"
   ]
  },
  {
   "cell_type": "markdown",
   "metadata": {},
   "source": [
    "## Label encoding and Target Encoding"
   ]
  },
  {
   "cell_type": "code",
   "execution_count": 910,
   "metadata": {},
   "outputs": [],
   "source": [
    "df_te_sales = pd.DataFrame(train_david.groupby('channel_sales')['churn'].mean())\n",
    "df_te_sales['te_channel_sales'] = df_te_sales['churn']\n",
    "df_te_sales = df_te_sales.drop('churn', axis=1)"
   ]
  },
  {
   "cell_type": "code",
   "execution_count": 911,
   "metadata": {},
   "outputs": [],
   "source": [
    "full = full.join(df_te_sales, how = 'left', on = 'channel_sales')"
   ]
  },
  {
   "cell_type": "code",
   "execution_count": 912,
   "metadata": {
    "scrolled": true
   },
   "outputs": [],
   "source": [
    "features['te_channel_sales'] = full['te_channel_sales']"
   ]
  },
  {
   "cell_type": "code",
   "execution_count": 913,
   "metadata": {},
   "outputs": [],
   "source": [
    "################################\n",
    "df_te_isic1= pd.DataFrame(train_david.groupby('isic_1l')['churn'].mean())\n",
    "df_te_isic1['isic_1l_te'] = df_te_isic1['churn']\n",
    "df_te_isic1 = df_te_isic1.drop('churn', axis=1)"
   ]
  },
  {
   "cell_type": "code",
   "execution_count": 914,
   "metadata": {},
   "outputs": [],
   "source": [
    "full = full.join(df_te_isic1, how = 'left', on = 'isic_1l')"
   ]
  },
  {
   "cell_type": "code",
   "execution_count": 915,
   "metadata": {},
   "outputs": [],
   "source": [
    "features['isic_1l_te'] = full['isic_1l_te']"
   ]
  },
  {
   "cell_type": "code",
   "execution_count": 916,
   "metadata": {},
   "outputs": [],
   "source": [
    "##############"
   ]
  },
  {
   "cell_type": "code",
   "execution_count": 917,
   "metadata": {},
   "outputs": [],
   "source": [
    "full['zip2']=full.zip.map(lambda x: \"{:05}\".format(x)[:2])"
   ]
  },
  {
   "cell_type": "code",
   "execution_count": 918,
   "metadata": {},
   "outputs": [],
   "source": [
    "df_te_zip2= pd.DataFrame(train_david.groupby('zip2')['churn'].mean())\n",
    "df_te_zip2['te_zip2'] = df_te_zip2['churn']\n",
    "df_te_zip2 = df_te_zip2.drop('churn', axis=1)\n"
   ]
  },
  {
   "cell_type": "code",
   "execution_count": 919,
   "metadata": {},
   "outputs": [],
   "source": [
    "full['zip2'] = full['zip2'].astype(int)"
   ]
  },
  {
   "cell_type": "code",
   "execution_count": 920,
   "metadata": {},
   "outputs": [],
   "source": [
    "full = pd.merge(full, df_te_zip2, how = 'left', left_on='zip2', right_index=True)"
   ]
  },
  {
   "cell_type": "code",
   "execution_count": 921,
   "metadata": {},
   "outputs": [],
   "source": [
    "features['zip2']=full.zip.map(lambda x: \"{:05}\".format(x)[:2])\n",
    "features['te_zip2'] = full['te_zip2']"
   ]
  },
  {
   "cell_type": "code",
   "execution_count": 922,
   "metadata": {},
   "outputs": [],
   "source": [
    "\n",
    "features.to_csv('featu_1')"
   ]
  },
  {
   "cell_type": "code",
   "execution_count": null,
   "metadata": {},
   "outputs": [],
   "source": []
  }
 ],
 "metadata": {
  "kernelspec": {
   "display_name": "Python 3",
   "language": "python",
   "name": "python3"
  },
  "language_info": {
   "codemirror_mode": {
    "name": "ipython",
    "version": 3
   },
   "file_extension": ".py",
   "mimetype": "text/x-python",
   "name": "python",
   "nbconvert_exporter": "python",
   "pygments_lexer": "ipython3",
   "version": "3.6.5"
  }
 },
 "nbformat": 4,
 "nbformat_minor": 2
}
