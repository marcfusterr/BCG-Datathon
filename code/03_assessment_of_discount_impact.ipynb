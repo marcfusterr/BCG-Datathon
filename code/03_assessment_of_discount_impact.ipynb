{
 "cells": [
  {
   "cell_type": "code",
   "execution_count": 125,
   "metadata": {
    "ExecuteTime": {
     "end_time": "2018-11-24T14:21:04.001115Z",
     "start_time": "2018-11-24T14:21:03.996989Z"
    }
   },
   "outputs": [],
   "source": [
    "import pandas as pd"
   ]
  },
  {
   "cell_type": "code",
   "execution_count": 126,
   "metadata": {
    "ExecuteTime": {
     "end_time": "2018-11-24T14:21:04.404555Z",
     "start_time": "2018-11-24T14:21:04.283329Z"
    }
   },
   "outputs": [],
   "source": [
    "data_path = '/home/sbduser/dataton/candidates_toolkit/data/ml_case_training_data_v2.csv'\n",
    "customer_df = pd.read_csv(data_path)"
   ]
  },
  {
   "cell_type": "code",
   "execution_count": 127,
   "metadata": {
    "ExecuteTime": {
     "end_time": "2018-11-24T14:21:04.676839Z",
     "start_time": "2018-11-24T14:21:04.407137Z"
    }
   },
   "outputs": [],
   "source": [
    "data_hist_path = '/home/sbduser/dataton/candidates_toolkit/data/ml_case_training_hist_data.csv'\n",
    "hist_df = pd.read_csv(data_hist_path)"
   ]
  },
  {
   "cell_type": "code",
   "execution_count": 128,
   "metadata": {
    "ExecuteTime": {
     "end_time": "2018-11-24T14:21:04.708306Z",
     "start_time": "2018-11-24T14:21:04.678683Z"
    }
   },
   "outputs": [
    {
     "data": {
      "text/plain": [
       "Index(['id', 'price_date', 'price_p1_var', 'price_p2_var', 'price_p3_var',\n",
       "       'price_p1_fix', 'price_p2_fix', 'price_p3_fix'],\n",
       "      dtype='object')"
      ]
     },
     "execution_count": 128,
     "metadata": {},
     "output_type": "execute_result"
    }
   ],
   "source": [
    "hist_df.columns"
   ]
  },
  {
   "cell_type": "code",
   "execution_count": 129,
   "metadata": {
    "ExecuteTime": {
     "end_time": "2018-11-24T14:21:05.210193Z",
     "start_time": "2018-11-24T14:21:04.812236Z"
    }
   },
   "outputs": [],
   "source": [
    "hist_mean_df = hist_df.groupby('id')[['price_p1_var', 'price_p2_var', 'price_p3_var']].mean()"
   ]
  },
  {
   "cell_type": "code",
   "execution_count": 130,
   "metadata": {
    "ExecuteTime": {
     "end_time": "2018-11-24T14:21:05.259574Z",
     "start_time": "2018-11-24T14:21:05.214621Z"
    }
   },
   "outputs": [
    {
     "data": {
      "text/html": [
       "<div>\n",
       "<style scoped>\n",
       "    .dataframe tbody tr th:only-of-type {\n",
       "        vertical-align: middle;\n",
       "    }\n",
       "\n",
       "    .dataframe tbody tr th {\n",
       "        vertical-align: top;\n",
       "    }\n",
       "\n",
       "    .dataframe thead th {\n",
       "        text-align: right;\n",
       "    }\n",
       "</style>\n",
       "<table border=\"1\" class=\"dataframe\">\n",
       "  <thead>\n",
       "    <tr style=\"text-align: right;\">\n",
       "      <th></th>\n",
       "      <th>price_p1_var</th>\n",
       "      <th>price_p2_var</th>\n",
       "      <th>price_p3_var</th>\n",
       "    </tr>\n",
       "  </thead>\n",
       "  <tbody>\n",
       "    <tr>\n",
       "      <th>count</th>\n",
       "      <td>16094.000000</td>\n",
       "      <td>16094.000000</td>\n",
       "      <td>16094.000000</td>\n",
       "    </tr>\n",
       "    <tr>\n",
       "      <th>mean</th>\n",
       "      <td>0.141004</td>\n",
       "      <td>0.054379</td>\n",
       "      <td>0.030695</td>\n",
       "    </tr>\n",
       "    <tr>\n",
       "      <th>std</th>\n",
       "      <td>0.024297</td>\n",
       "      <td>0.049860</td>\n",
       "      <td>0.036220</td>\n",
       "    </tr>\n",
       "    <tr>\n",
       "      <th>min</th>\n",
       "      <td>0.000000</td>\n",
       "      <td>0.000000</td>\n",
       "      <td>0.000000</td>\n",
       "    </tr>\n",
       "    <tr>\n",
       "      <th>25%</th>\n",
       "      <td>0.123974</td>\n",
       "      <td>0.000000</td>\n",
       "      <td>0.000000</td>\n",
       "    </tr>\n",
       "    <tr>\n",
       "      <th>50%</th>\n",
       "      <td>0.147251</td>\n",
       "      <td>0.085946</td>\n",
       "      <td>0.000000</td>\n",
       "    </tr>\n",
       "    <tr>\n",
       "      <th>75%</th>\n",
       "      <td>0.150316</td>\n",
       "      <td>0.102396</td>\n",
       "      <td>0.072778</td>\n",
       "    </tr>\n",
       "    <tr>\n",
       "      <th>max</th>\n",
       "      <td>0.278759</td>\n",
       "      <td>0.196275</td>\n",
       "      <td>0.102952</td>\n",
       "    </tr>\n",
       "  </tbody>\n",
       "</table>\n",
       "</div>"
      ],
      "text/plain": [
       "       price_p1_var  price_p2_var  price_p3_var\n",
       "count  16094.000000  16094.000000  16094.000000\n",
       "mean       0.141004      0.054379      0.030695\n",
       "std        0.024297      0.049860      0.036220\n",
       "min        0.000000      0.000000      0.000000\n",
       "25%        0.123974      0.000000      0.000000\n",
       "50%        0.147251      0.085946      0.000000\n",
       "75%        0.150316      0.102396      0.072778\n",
       "max        0.278759      0.196275      0.102952"
      ]
     },
     "execution_count": 130,
     "metadata": {},
     "output_type": "execute_result"
    }
   ],
   "source": [
    "hist_mean_df.describe()"
   ]
  },
  {
   "cell_type": "code",
   "execution_count": 131,
   "metadata": {
    "ExecuteTime": {
     "end_time": "2018-11-24T14:21:05.364464Z",
     "start_time": "2018-11-24T14:21:05.264604Z"
    }
   },
   "outputs": [],
   "source": [
    "hist_mean_df[['price_p1_fix', 'price_p2_fix', 'price_p3_fix']] = hist_df.groupby('id')['price_p1_fix', 'price_p2_fix', 'price_p3_fix'].sum()"
   ]
  },
  {
   "cell_type": "code",
   "execution_count": 132,
   "metadata": {
    "ExecuteTime": {
     "end_time": "2018-11-24T14:21:05.456074Z",
     "start_time": "2018-11-24T14:21:05.366320Z"
    }
   },
   "outputs": [
    {
     "data": {
      "text/html": [
       "<div>\n",
       "<style scoped>\n",
       "    .dataframe tbody tr th:only-of-type {\n",
       "        vertical-align: middle;\n",
       "    }\n",
       "\n",
       "    .dataframe tbody tr th {\n",
       "        vertical-align: top;\n",
       "    }\n",
       "\n",
       "    .dataframe thead th {\n",
       "        text-align: right;\n",
       "    }\n",
       "</style>\n",
       "<table border=\"1\" class=\"dataframe\">\n",
       "  <thead>\n",
       "    <tr style=\"text-align: right;\">\n",
       "      <th></th>\n",
       "      <th>price_p1_var</th>\n",
       "      <th>price_p2_var</th>\n",
       "      <th>price_p3_var</th>\n",
       "      <th>price_p1_fix</th>\n",
       "      <th>price_p2_fix</th>\n",
       "      <th>price_p3_fix</th>\n",
       "    </tr>\n",
       "    <tr>\n",
       "      <th>id</th>\n",
       "      <th></th>\n",
       "      <th></th>\n",
       "      <th></th>\n",
       "      <th></th>\n",
       "      <th></th>\n",
       "      <th></th>\n",
       "    </tr>\n",
       "  </thead>\n",
       "  <tbody>\n",
       "    <tr>\n",
       "      <th>0002203ffbb812588b632b9e628cc38d</th>\n",
       "      <td>0.124338</td>\n",
       "      <td>0.103794</td>\n",
       "      <td>0.073160</td>\n",
       "      <td>488.420789</td>\n",
       "      <td>293.052462</td>\n",
       "      <td>195.368327</td>\n",
       "    </tr>\n",
       "    <tr>\n",
       "      <th>0004351ebdd665e6ee664792efc4fd13</th>\n",
       "      <td>0.146426</td>\n",
       "      <td>0.000000</td>\n",
       "      <td>0.000000</td>\n",
       "      <td>532.625404</td>\n",
       "      <td>0.000000</td>\n",
       "      <td>0.000000</td>\n",
       "    </tr>\n",
       "    <tr>\n",
       "      <th>0010bcc39e42b3c2131ed2ce55246e3c</th>\n",
       "      <td>0.181558</td>\n",
       "      <td>0.000000</td>\n",
       "      <td>0.000000</td>\n",
       "      <td>543.836520</td>\n",
       "      <td>0.000000</td>\n",
       "      <td>0.000000</td>\n",
       "    </tr>\n",
       "    <tr>\n",
       "      <th>0010ee3855fdea87602a5b7aba8e42de</th>\n",
       "      <td>0.118757</td>\n",
       "      <td>0.098292</td>\n",
       "      <td>0.069032</td>\n",
       "      <td>487.769130</td>\n",
       "      <td>292.661462</td>\n",
       "      <td>195.107656</td>\n",
       "    </tr>\n",
       "    <tr>\n",
       "      <th>00114d74e963e47177db89bc70108537</th>\n",
       "      <td>0.147926</td>\n",
       "      <td>0.000000</td>\n",
       "      <td>0.000000</td>\n",
       "      <td>531.203164</td>\n",
       "      <td>0.000000</td>\n",
       "      <td>0.000000</td>\n",
       "    </tr>\n",
       "  </tbody>\n",
       "</table>\n",
       "</div>"
      ],
      "text/plain": [
       "                                  price_p1_var  price_p2_var  price_p3_var  \\\n",
       "id                                                                           \n",
       "0002203ffbb812588b632b9e628cc38d      0.124338      0.103794      0.073160   \n",
       "0004351ebdd665e6ee664792efc4fd13      0.146426      0.000000      0.000000   \n",
       "0010bcc39e42b3c2131ed2ce55246e3c      0.181558      0.000000      0.000000   \n",
       "0010ee3855fdea87602a5b7aba8e42de      0.118757      0.098292      0.069032   \n",
       "00114d74e963e47177db89bc70108537      0.147926      0.000000      0.000000   \n",
       "\n",
       "                                  price_p1_fix  price_p2_fix  price_p3_fix  \n",
       "id                                                                          \n",
       "0002203ffbb812588b632b9e628cc38d    488.420789    293.052462    195.368327  \n",
       "0004351ebdd665e6ee664792efc4fd13    532.625404      0.000000      0.000000  \n",
       "0010bcc39e42b3c2131ed2ce55246e3c    543.836520      0.000000      0.000000  \n",
       "0010ee3855fdea87602a5b7aba8e42de    487.769130    292.661462    195.107656  \n",
       "00114d74e963e47177db89bc70108537    531.203164      0.000000      0.000000  "
      ]
     },
     "execution_count": 132,
     "metadata": {},
     "output_type": "execute_result"
    }
   ],
   "source": [
    "hist_mean_df.head()"
   ]
  },
  {
   "cell_type": "code",
   "execution_count": 133,
   "metadata": {
    "ExecuteTime": {
     "end_time": "2018-11-24T14:21:05.570052Z",
     "start_time": "2018-11-24T14:21:05.457722Z"
    }
   },
   "outputs": [],
   "source": [
    "customer_df.set_index('id', inplace=True)"
   ]
  },
  {
   "cell_type": "code",
   "execution_count": 134,
   "metadata": {
    "ExecuteTime": {
     "end_time": "2018-11-24T14:21:05.685780Z",
     "start_time": "2018-11-24T14:21:05.572045Z"
    },
    "scrolled": true
   },
   "outputs": [],
   "source": [
    "customer_df = customer_df.merge(hist_mean_df, how='left', validate='one_to_one', left_index=True, right_index=True)"
   ]
  },
  {
   "cell_type": "code",
   "execution_count": 135,
   "metadata": {
    "ExecuteTime": {
     "end_time": "2018-11-24T14:21:05.803026Z",
     "start_time": "2018-11-24T14:21:05.687520Z"
    }
   },
   "outputs": [
    {
     "data": {
      "text/html": [
       "<div>\n",
       "<style scoped>\n",
       "    .dataframe tbody tr th:only-of-type {\n",
       "        vertical-align: middle;\n",
       "    }\n",
       "\n",
       "    .dataframe tbody tr th {\n",
       "        vertical-align: top;\n",
       "    }\n",
       "\n",
       "    .dataframe thead th {\n",
       "        text-align: right;\n",
       "    }\n",
       "</style>\n",
       "<table border=\"1\" class=\"dataframe\">\n",
       "  <thead>\n",
       "    <tr style=\"text-align: right;\">\n",
       "      <th></th>\n",
       "      <th>Unnamed: 0</th>\n",
       "      <th>campaign_disc_ele</th>\n",
       "      <th>channel_sales</th>\n",
       "      <th>cons_12m</th>\n",
       "      <th>cons_gas_12m</th>\n",
       "      <th>cons_last_month</th>\n",
       "      <th>date_activ</th>\n",
       "      <th>date_end</th>\n",
       "      <th>date_first_activ</th>\n",
       "      <th>date_modif_prod</th>\n",
       "      <th>...</th>\n",
       "      <th>pow_max</th>\n",
       "      <th>isic_1l</th>\n",
       "      <th>isic_2l</th>\n",
       "      <th>zip</th>\n",
       "      <th>price_p1_var</th>\n",
       "      <th>price_p2_var</th>\n",
       "      <th>price_p3_var</th>\n",
       "      <th>price_p1_fix</th>\n",
       "      <th>price_p2_fix</th>\n",
       "      <th>price_p3_fix</th>\n",
       "    </tr>\n",
       "    <tr>\n",
       "      <th>id</th>\n",
       "      <th></th>\n",
       "      <th></th>\n",
       "      <th></th>\n",
       "      <th></th>\n",
       "      <th></th>\n",
       "      <th></th>\n",
       "      <th></th>\n",
       "      <th></th>\n",
       "      <th></th>\n",
       "      <th></th>\n",
       "      <th></th>\n",
       "      <th></th>\n",
       "      <th></th>\n",
       "      <th></th>\n",
       "      <th></th>\n",
       "      <th></th>\n",
       "      <th></th>\n",
       "      <th></th>\n",
       "      <th></th>\n",
       "      <th></th>\n",
       "      <th></th>\n",
       "    </tr>\n",
       "  </thead>\n",
       "  <tbody>\n",
       "    <tr>\n",
       "      <th>48ada52261e7cf58715202705a0451c9</th>\n",
       "      <td>0</td>\n",
       "      <td>NaN</td>\n",
       "      <td>lmkebamcaaclubfxadlmueccxoimlema</td>\n",
       "      <td>309275</td>\n",
       "      <td>0</td>\n",
       "      <td>10025</td>\n",
       "      <td>2012-11-07</td>\n",
       "      <td>2016-11-06</td>\n",
       "      <td>NaN</td>\n",
       "      <td>2012-11-07</td>\n",
       "      <td>...</td>\n",
       "      <td>180.000</td>\n",
       "      <td>G</td>\n",
       "      <td>47</td>\n",
       "      <td>43877</td>\n",
       "      <td>0.103449</td>\n",
       "      <td>0.092115</td>\n",
       "      <td>0.067241</td>\n",
       "      <td>707.478018</td>\n",
       "      <td>436.282646</td>\n",
       "      <td>100.044610</td>\n",
       "    </tr>\n",
       "    <tr>\n",
       "      <th>24011ae4ebbe3035111d65fa7c15bc57</th>\n",
       "      <td>1</td>\n",
       "      <td>NaN</td>\n",
       "      <td>foosdfpfkusacimwkcsosbicdxkicaua</td>\n",
       "      <td>0</td>\n",
       "      <td>54946</td>\n",
       "      <td>0</td>\n",
       "      <td>2013-06-15</td>\n",
       "      <td>2016-06-15</td>\n",
       "      <td>NaN</td>\n",
       "      <td>NaN</td>\n",
       "      <td>...</td>\n",
       "      <td>43.648</td>\n",
       "      <td>G</td>\n",
       "      <td>47</td>\n",
       "      <td>31395</td>\n",
       "      <td>0.122856</td>\n",
       "      <td>0.102137</td>\n",
       "      <td>0.072579</td>\n",
       "      <td>447.040256</td>\n",
       "      <td>268.224124</td>\n",
       "      <td>178.816084</td>\n",
       "    </tr>\n",
       "    <tr>\n",
       "      <th>23f9e0bddadb1d9c567b3c4576c8ac34</th>\n",
       "      <td>2</td>\n",
       "      <td>NaN</td>\n",
       "      <td>NaN</td>\n",
       "      <td>35446</td>\n",
       "      <td>0</td>\n",
       "      <td>4265</td>\n",
       "      <td>2009-10-26</td>\n",
       "      <td>2016-10-25</td>\n",
       "      <td>NaN</td>\n",
       "      <td>2009-10-26</td>\n",
       "      <td>...</td>\n",
       "      <td>13.200</td>\n",
       "      <td>A</td>\n",
       "      <td>2</td>\n",
       "      <td>31395</td>\n",
       "      <td>0.149953</td>\n",
       "      <td>0.000000</td>\n",
       "      <td>0.000000</td>\n",
       "      <td>535.558725</td>\n",
       "      <td>0.000000</td>\n",
       "      <td>0.000000</td>\n",
       "    </tr>\n",
       "    <tr>\n",
       "      <th>0c14a4e90623d74951da665862147606</th>\n",
       "      <td>3</td>\n",
       "      <td>NaN</td>\n",
       "      <td>foosdfpfkusacimwkcsosbicdxkicaua</td>\n",
       "      <td>63442</td>\n",
       "      <td>0</td>\n",
       "      <td>10261</td>\n",
       "      <td>2012-05-15</td>\n",
       "      <td>2016-05-15</td>\n",
       "      <td>2012-05-15</td>\n",
       "      <td>2012-05-15</td>\n",
       "      <td>...</td>\n",
       "      <td>10.390</td>\n",
       "      <td>F</td>\n",
       "      <td>41</td>\n",
       "      <td>31395</td>\n",
       "      <td>0.147365</td>\n",
       "      <td>0.000000</td>\n",
       "      <td>0.000000</td>\n",
       "      <td>532.447626</td>\n",
       "      <td>0.000000</td>\n",
       "      <td>0.000000</td>\n",
       "    </tr>\n",
       "    <tr>\n",
       "      <th>f2c6ef2fa0b1a52d02872832279081c0</th>\n",
       "      <td>4</td>\n",
       "      <td>NaN</td>\n",
       "      <td>ewpakwlliwisiwduibdlfmalxowmwpci</td>\n",
       "      <td>11354</td>\n",
       "      <td>0</td>\n",
       "      <td>992</td>\n",
       "      <td>2013-01-01</td>\n",
       "      <td>2017-01-01</td>\n",
       "      <td>NaN</td>\n",
       "      <td>2013-01-01</td>\n",
       "      <td>...</td>\n",
       "      <td>13.200</td>\n",
       "      <td>L</td>\n",
       "      <td>68</td>\n",
       "      <td>31395</td>\n",
       "      <td>0.111658</td>\n",
       "      <td>0.100194</td>\n",
       "      <td>0.075263</td>\n",
       "      <td>707.241330</td>\n",
       "      <td>436.136678</td>\n",
       "      <td>100.011142</td>\n",
       "    </tr>\n",
       "  </tbody>\n",
       "</table>\n",
       "<p>5 rows × 40 columns</p>\n",
       "</div>"
      ],
      "text/plain": [
       "                                  Unnamed: 0  campaign_disc_ele  \\\n",
       "id                                                                \n",
       "48ada52261e7cf58715202705a0451c9           0                NaN   \n",
       "24011ae4ebbe3035111d65fa7c15bc57           1                NaN   \n",
       "23f9e0bddadb1d9c567b3c4576c8ac34           2                NaN   \n",
       "0c14a4e90623d74951da665862147606           3                NaN   \n",
       "f2c6ef2fa0b1a52d02872832279081c0           4                NaN   \n",
       "\n",
       "                                                     channel_sales  cons_12m  \\\n",
       "id                                                                             \n",
       "48ada52261e7cf58715202705a0451c9  lmkebamcaaclubfxadlmueccxoimlema    309275   \n",
       "24011ae4ebbe3035111d65fa7c15bc57  foosdfpfkusacimwkcsosbicdxkicaua         0   \n",
       "23f9e0bddadb1d9c567b3c4576c8ac34                               NaN     35446   \n",
       "0c14a4e90623d74951da665862147606  foosdfpfkusacimwkcsosbicdxkicaua     63442   \n",
       "f2c6ef2fa0b1a52d02872832279081c0  ewpakwlliwisiwduibdlfmalxowmwpci     11354   \n",
       "\n",
       "                                  cons_gas_12m  cons_last_month  date_activ  \\\n",
       "id                                                                            \n",
       "48ada52261e7cf58715202705a0451c9             0            10025  2012-11-07   \n",
       "24011ae4ebbe3035111d65fa7c15bc57         54946                0  2013-06-15   \n",
       "23f9e0bddadb1d9c567b3c4576c8ac34             0             4265  2009-10-26   \n",
       "0c14a4e90623d74951da665862147606             0            10261  2012-05-15   \n",
       "f2c6ef2fa0b1a52d02872832279081c0             0              992  2013-01-01   \n",
       "\n",
       "                                    date_end date_first_activ date_modif_prod  \\\n",
       "id                                                                              \n",
       "48ada52261e7cf58715202705a0451c9  2016-11-06              NaN      2012-11-07   \n",
       "24011ae4ebbe3035111d65fa7c15bc57  2016-06-15              NaN             NaN   \n",
       "23f9e0bddadb1d9c567b3c4576c8ac34  2016-10-25              NaN      2009-10-26   \n",
       "0c14a4e90623d74951da665862147606  2016-05-15       2012-05-15      2012-05-15   \n",
       "f2c6ef2fa0b1a52d02872832279081c0  2017-01-01              NaN      2013-01-01   \n",
       "\n",
       "                                      ...       pow_max  isic_1l  isic_2l  \\\n",
       "id                                    ...                                   \n",
       "48ada52261e7cf58715202705a0451c9      ...       180.000        G       47   \n",
       "24011ae4ebbe3035111d65fa7c15bc57      ...        43.648        G       47   \n",
       "23f9e0bddadb1d9c567b3c4576c8ac34      ...        13.200        A        2   \n",
       "0c14a4e90623d74951da665862147606      ...        10.390        F       41   \n",
       "f2c6ef2fa0b1a52d02872832279081c0      ...        13.200        L       68   \n",
       "\n",
       "                                    zip  price_p1_var  price_p2_var  \\\n",
       "id                                                                    \n",
       "48ada52261e7cf58715202705a0451c9  43877      0.103449      0.092115   \n",
       "24011ae4ebbe3035111d65fa7c15bc57  31395      0.122856      0.102137   \n",
       "23f9e0bddadb1d9c567b3c4576c8ac34  31395      0.149953      0.000000   \n",
       "0c14a4e90623d74951da665862147606  31395      0.147365      0.000000   \n",
       "f2c6ef2fa0b1a52d02872832279081c0  31395      0.111658      0.100194   \n",
       "\n",
       "                                  price_p3_var  price_p1_fix  price_p2_fix  \\\n",
       "id                                                                           \n",
       "48ada52261e7cf58715202705a0451c9      0.067241    707.478018    436.282646   \n",
       "24011ae4ebbe3035111d65fa7c15bc57      0.072579    447.040256    268.224124   \n",
       "23f9e0bddadb1d9c567b3c4576c8ac34      0.000000    535.558725      0.000000   \n",
       "0c14a4e90623d74951da665862147606      0.000000    532.447626      0.000000   \n",
       "f2c6ef2fa0b1a52d02872832279081c0      0.075263    707.241330    436.136678   \n",
       "\n",
       "                                  price_p3_fix  \n",
       "id                                              \n",
       "48ada52261e7cf58715202705a0451c9    100.044610  \n",
       "24011ae4ebbe3035111d65fa7c15bc57    178.816084  \n",
       "23f9e0bddadb1d9c567b3c4576c8ac34      0.000000  \n",
       "0c14a4e90623d74951da665862147606      0.000000  \n",
       "f2c6ef2fa0b1a52d02872832279081c0    100.011142  \n",
       "\n",
       "[5 rows x 40 columns]"
      ]
     },
     "execution_count": 135,
     "metadata": {},
     "output_type": "execute_result"
    }
   ],
   "source": [
    "customer_df.head()"
   ]
  },
  {
   "cell_type": "code",
   "execution_count": 136,
   "metadata": {
    "ExecuteTime": {
     "end_time": "2018-11-24T14:21:06.554943Z",
     "start_time": "2018-11-24T14:21:05.804949Z"
    }
   },
   "outputs": [],
   "source": [
    "customer_df.to_csv('training_customer_merge_hist.csv')"
   ]
  },
  {
   "cell_type": "code",
   "execution_count": 137,
   "metadata": {
    "ExecuteTime": {
     "end_time": "2018-11-24T14:21:06.578749Z",
     "start_time": "2018-11-24T14:21:06.557943Z"
    }
   },
   "outputs": [],
   "source": [
    "MEAN_GAS_PRICE_PER_KWH = 0.05125\n",
    "KWH_PER_M3 = 11.70 \n",
    "MEAN_GAS_PRICE_PER_M3 = MEAN_GAS_PRICE_PER_KWH * KWH_PER_M3"
   ]
  },
  {
   "cell_type": "code",
   "execution_count": 138,
   "metadata": {
    "ExecuteTime": {
     "end_time": "2018-11-24T14:21:06.743497Z",
     "start_time": "2018-11-24T14:21:06.582400Z"
    }
   },
   "outputs": [
    {
     "data": {
      "text/plain": [
       "0.599625"
      ]
     },
     "execution_count": 138,
     "metadata": {},
     "output_type": "execute_result"
    }
   ],
   "source": [
    "MEAN_GAS_PRICE_PER_M3"
   ]
  },
  {
   "cell_type": "code",
   "execution_count": 139,
   "metadata": {
    "ExecuteTime": {
     "end_time": "2018-11-24T14:21:06.853593Z",
     "start_time": "2018-11-24T14:21:06.761785Z"
    }
   },
   "outputs": [],
   "source": [
    "customer_df['income_due_to_gas_12m'] = customer_df['cons_gas_12m'].multiply(MEAN_GAS_PRICE_PER_M3)"
   ]
  },
  {
   "cell_type": "code",
   "execution_count": 140,
   "metadata": {
    "ExecuteTime": {
     "end_time": "2018-11-24T14:21:06.958236Z",
     "start_time": "2018-11-24T14:21:06.859994Z"
    }
   },
   "outputs": [],
   "source": [
    "power_columns = ['price_p1_fix', 'price_p2_fix', 'price_p3_fix']"
   ]
  },
  {
   "cell_type": "code",
   "execution_count": 141,
   "metadata": {
    "ExecuteTime": {
     "end_time": "2018-11-24T14:21:07.062939Z",
     "start_time": "2018-11-24T14:21:06.960535Z"
    }
   },
   "outputs": [],
   "source": [
    "customer_df['income_due_to_fix_12m'] = customer_df[power_columns].sum(axis=1)"
   ]
  },
  {
   "cell_type": "code",
   "execution_count": 142,
   "metadata": {
    "ExecuteTime": {
     "end_time": "2018-11-24T14:21:07.157460Z",
     "start_time": "2018-11-24T14:21:07.065017Z"
    }
   },
   "outputs": [],
   "source": [
    "variable_columns = ['price_p1_var', 'price_p2_var', 'price_p3_var']"
   ]
  },
  {
   "cell_type": "code",
   "execution_count": 143,
   "metadata": {
    "ExecuteTime": {
     "end_time": "2018-11-24T14:21:07.294933Z",
     "start_time": "2018-11-24T14:21:07.163073Z"
    }
   },
   "outputs": [],
   "source": [
    "customer_df['price_var_mean'] = customer_df[variable_columns].mean(axis=1)"
   ]
  },
  {
   "cell_type": "code",
   "execution_count": 144,
   "metadata": {
    "ExecuteTime": {
     "end_time": "2018-11-24T14:21:07.440201Z",
     "start_time": "2018-11-24T14:21:07.297397Z"
    }
   },
   "outputs": [],
   "source": [
    "# customer_df[variable_columns + ['price_var_mean']]"
   ]
  },
  {
   "cell_type": "code",
   "execution_count": 145,
   "metadata": {
    "ExecuteTime": {
     "end_time": "2018-11-24T14:21:07.536371Z",
     "start_time": "2018-11-24T14:21:07.442412Z"
    }
   },
   "outputs": [],
   "source": [
    "customer_df['income_due_to_var_12m'] = customer_df['price_var_mean'].multiply(customer_df['cons_12m'])"
   ]
  },
  {
   "cell_type": "code",
   "execution_count": 146,
   "metadata": {
    "ExecuteTime": {
     "end_time": "2018-11-24T14:21:07.636298Z",
     "start_time": "2018-11-24T14:21:07.538092Z"
    }
   },
   "outputs": [],
   "source": [
    "income_vars = ['income_due_to_gas_12m', 'income_due_to_fix_12m', 'income_due_to_var_12m']"
   ]
  },
  {
   "cell_type": "code",
   "execution_count": 147,
   "metadata": {
    "ExecuteTime": {
     "end_time": "2018-11-24T14:21:07.776098Z",
     "start_time": "2018-11-24T14:21:07.639744Z"
    }
   },
   "outputs": [
    {
     "data": {
      "text/html": [
       "<div>\n",
       "<style scoped>\n",
       "    .dataframe tbody tr th:only-of-type {\n",
       "        vertical-align: middle;\n",
       "    }\n",
       "\n",
       "    .dataframe tbody tr th {\n",
       "        vertical-align: top;\n",
       "    }\n",
       "\n",
       "    .dataframe thead th {\n",
       "        text-align: right;\n",
       "    }\n",
       "</style>\n",
       "<table border=\"1\" class=\"dataframe\">\n",
       "  <thead>\n",
       "    <tr style=\"text-align: right;\">\n",
       "      <th></th>\n",
       "      <th>income_due_to_gas_12m</th>\n",
       "      <th>income_due_to_fix_12m</th>\n",
       "      <th>income_due_to_var_12m</th>\n",
       "    </tr>\n",
       "  </thead>\n",
       "  <tbody>\n",
       "    <tr>\n",
       "      <th>count</th>\n",
       "      <td>1.608300e+04</td>\n",
       "      <td>16083.000000</td>\n",
       "      <td>1.608100e+04</td>\n",
       "    </tr>\n",
       "    <tr>\n",
       "      <th>mean</th>\n",
       "      <td>1.913649e+04</td>\n",
       "      <td>720.085983</td>\n",
       "      <td>1.667431e+04</td>\n",
       "    </tr>\n",
       "    <tr>\n",
       "      <th>std</th>\n",
       "      <td>1.065232e+05</td>\n",
       "      <td>244.370069</td>\n",
       "      <td>5.966399e+04</td>\n",
       "    </tr>\n",
       "    <tr>\n",
       "      <th>min</th>\n",
       "      <td>-1.821061e+03</td>\n",
       "      <td>0.000000</td>\n",
       "      <td>-1.162071e+04</td>\n",
       "    </tr>\n",
       "    <tr>\n",
       "      <th>25%</th>\n",
       "      <td>0.000000e+00</td>\n",
       "      <td>531.914284</td>\n",
       "      <td>3.531941e+02</td>\n",
       "    </tr>\n",
       "    <tr>\n",
       "      <th>50%</th>\n",
       "      <td>0.000000e+00</td>\n",
       "      <td>533.336520</td>\n",
       "      <td>1.085725e+03</td>\n",
       "    </tr>\n",
       "    <tr>\n",
       "      <th>75%</th>\n",
       "      <td>0.000000e+00</td>\n",
       "      <td>975.409069</td>\n",
       "      <td>4.273010e+03</td>\n",
       "    </tr>\n",
       "    <tr>\n",
       "      <th>max</th>\n",
       "      <td>2.511493e+06</td>\n",
       "      <td>1248.382656</td>\n",
       "      <td>1.515242e+06</td>\n",
       "    </tr>\n",
       "  </tbody>\n",
       "</table>\n",
       "</div>"
      ],
      "text/plain": [
       "       income_due_to_gas_12m  income_due_to_fix_12m  income_due_to_var_12m\n",
       "count           1.608300e+04           16083.000000           1.608100e+04\n",
       "mean            1.913649e+04             720.085983           1.667431e+04\n",
       "std             1.065232e+05             244.370069           5.966399e+04\n",
       "min            -1.821061e+03               0.000000          -1.162071e+04\n",
       "25%             0.000000e+00             531.914284           3.531941e+02\n",
       "50%             0.000000e+00             533.336520           1.085725e+03\n",
       "75%             0.000000e+00             975.409069           4.273010e+03\n",
       "max             2.511493e+06            1248.382656           1.515242e+06"
      ]
     },
     "execution_count": 147,
     "metadata": {},
     "output_type": "execute_result"
    }
   ],
   "source": [
    "customer_df[income_vars].describe()"
   ]
  },
  {
   "cell_type": "code",
   "execution_count": 148,
   "metadata": {
    "ExecuteTime": {
     "end_time": "2018-11-24T14:21:07.861925Z",
     "start_time": "2018-11-24T14:21:07.778292Z"
    }
   },
   "outputs": [],
   "source": [
    "customer_df['income_12m'] = customer_df[income_vars].sum(axis=1)"
   ]
  },
  {
   "cell_type": "code",
   "execution_count": 216,
   "metadata": {
    "ExecuteTime": {
     "end_time": "2018-11-24T14:28:53.757329Z",
     "start_time": "2018-11-24T14:28:53.751969Z"
    }
   },
   "outputs": [],
   "source": [
    "customer_df['costs_12m'] = customer_df['income_12m'] - customer_df['net_margin']"
   ]
  },
  {
   "cell_type": "code",
   "execution_count": 217,
   "metadata": {
    "ExecuteTime": {
     "end_time": "2018-11-24T14:28:53.901867Z",
     "start_time": "2018-11-24T14:28:53.761391Z"
    }
   },
   "outputs": [],
   "source": [
    "descuento = 0.99"
   ]
  },
  {
   "cell_type": "code",
   "execution_count": 218,
   "metadata": {
    "ExecuteTime": {
     "end_time": "2018-11-24T14:28:54.009560Z",
     "start_time": "2018-11-24T14:28:53.949040Z"
    }
   },
   "outputs": [],
   "source": [
    "customer_df['income_if_disccount'] = customer_df['income_12m'].multiply(descuento)"
   ]
  },
  {
   "cell_type": "code",
   "execution_count": 219,
   "metadata": {
    "ExecuteTime": {
     "end_time": "2018-11-24T14:28:54.178264Z",
     "start_time": "2018-11-24T14:28:54.014301Z"
    }
   },
   "outputs": [],
   "source": [
    "customer_churn = pd.read_csv('/home/sbduser/dataton/candidates_toolkit/data/ml_case_training_output.csv')"
   ]
  },
  {
   "cell_type": "code",
   "execution_count": 220,
   "metadata": {
    "ExecuteTime": {
     "end_time": "2018-11-24T14:28:54.275348Z",
     "start_time": "2018-11-24T14:28:54.180974Z"
    }
   },
   "outputs": [],
   "source": [
    "customer_churn.set_index('id', inplace=True)"
   ]
  },
  {
   "cell_type": "code",
   "execution_count": 221,
   "metadata": {
    "ExecuteTime": {
     "end_time": "2018-11-24T14:28:54.397111Z",
     "start_time": "2018-11-24T14:28:54.277531Z"
    }
   },
   "outputs": [],
   "source": [
    "full_df = customer_df.merge(customer_churn, how='left', left_index=True, right_index=True, validate='one_to_one')"
   ]
  },
  {
   "cell_type": "code",
   "execution_count": 222,
   "metadata": {
    "ExecuteTime": {
     "end_time": "2018-11-24T14:28:54.497955Z",
     "start_time": "2018-11-24T14:28:54.400004Z"
    }
   },
   "outputs": [],
   "source": [
    "total_revenue_12m = full_df.net_margin.sum()"
   ]
  },
  {
   "cell_type": "code",
   "execution_count": 223,
   "metadata": {
    "ExecuteTime": {
     "end_time": "2018-11-24T14:28:54.655036Z",
     "start_time": "2018-11-24T14:28:54.500463Z"
    }
   },
   "outputs": [],
   "source": [
    "non_leavers = full_df[full_df['churn'] == 0]\n",
    "leavers = full_df[full_df['churn'] == 1]"
   ]
  },
  {
   "cell_type": "code",
   "execution_count": 224,
   "metadata": {
    "ExecuteTime": {
     "end_time": "2018-11-24T14:28:54.742763Z",
     "start_time": "2018-11-24T14:28:54.657230Z"
    }
   },
   "outputs": [
    {
     "data": {
      "text/plain": [
       "(14495, 48)"
      ]
     },
     "execution_count": 224,
     "metadata": {},
     "output_type": "execute_result"
    }
   ],
   "source": [
    "non_leavers.shape"
   ]
  },
  {
   "cell_type": "code",
   "execution_count": 225,
   "metadata": {
    "ExecuteTime": {
     "end_time": "2018-11-24T14:28:54.856401Z",
     "start_time": "2018-11-24T14:28:54.744890Z"
    }
   },
   "outputs": [
    {
     "data": {
      "text/plain": [
       "(1588, 48)"
      ]
     },
     "execution_count": 225,
     "metadata": {},
     "output_type": "execute_result"
    }
   ],
   "source": [
    "leavers.shape"
   ]
  },
  {
   "cell_type": "code",
   "execution_count": 234,
   "metadata": {
    "ExecuteTime": {
     "end_time": "2018-11-24T14:30:16.430067Z",
     "start_time": "2018-11-24T14:30:16.424763Z"
    }
   },
   "outputs": [],
   "source": [
    "import numpy as np"
   ]
  },
  {
   "cell_type": "code",
   "execution_count": 250,
   "metadata": {
    "ExecuteTime": {
     "end_time": "2018-11-24T14:43:28.347483Z",
     "start_time": "2018-11-24T14:43:28.338903Z"
    }
   },
   "outputs": [],
   "source": [
    "discounts = np.linspace(0.8, 1, 50)"
   ]
  },
  {
   "cell_type": "code",
   "execution_count": 251,
   "metadata": {
    "ExecuteTime": {
     "end_time": "2018-11-24T14:44:19.714568Z",
     "start_time": "2018-11-24T14:44:16.639241Z"
    }
   },
   "outputs": [
    {
     "name": "stderr",
     "output_type": "stream",
     "text": [
      "/home/sbduser/dataton/venv/lib/python3.5/site-packages/ipykernel_launcher.py:3: SettingWithCopyWarning: \n",
      "A value is trying to be set on a copy of a slice from a DataFrame.\n",
      "Try using .loc[row_indexer,col_indexer] = value instead\n",
      "\n",
      "See the caveats in the documentation: http://pandas.pydata.org/pandas-docs/stable/indexing.html#indexing-view-versus-copy\n",
      "  This is separate from the ipykernel package so we can avoid doing imports until\n",
      "/home/sbduser/dataton/venv/lib/python3.5/site-packages/ipykernel_launcher.py:4: SettingWithCopyWarning: \n",
      "A value is trying to be set on a copy of a slice from a DataFrame.\n",
      "Try using .loc[row_indexer,col_indexer] = value instead\n",
      "\n",
      "See the caveats in the documentation: http://pandas.pydata.org/pandas-docs/stable/indexing.html#indexing-view-versus-copy\n",
      "  after removing the cwd from sys.path.\n"
     ]
    }
   ],
   "source": [
    "margins = np.zeros((50, ))\n",
    "for i, disccount in enumerate(discounts):\n",
    "    leavers['income_if_disccount'] = leavers['income_12m'].multiply(disccount)\n",
    "    leavers['new_margin'] = leavers['income_if_disccount'] - leavers['costs_12m']\n",
    "    margins[i] = leavers.new_margin.sum()"
   ]
  },
  {
   "cell_type": "code",
   "execution_count": 287,
   "metadata": {
    "ExecuteTime": {
     "end_time": "2018-11-24T15:14:12.815925Z",
     "start_time": "2018-11-24T15:14:12.808990Z"
    }
   },
   "outputs": [],
   "source": [
    "import matplotlib.pyplot as plt\n",
    "import matplotlib\n",
    "plt.style.use('ggplot')"
   ]
  },
  {
   "cell_type": "code",
   "execution_count": 288,
   "metadata": {
    "ExecuteTime": {
     "end_time": "2018-11-24T15:14:13.444509Z",
     "start_time": "2018-11-24T15:14:13.438697Z"
    }
   },
   "outputs": [],
   "source": [
    "negative_margins = margins[margins <= 0]\n",
    "positive_margins = margins[margins > 0]\n",
    "negative_disccounts = discounts[margins <= 0]\n",
    "positive_disccounts = discounts[margins > 0]"
   ]
  },
  {
   "cell_type": "code",
   "execution_count": 290,
   "metadata": {
    "ExecuteTime": {
     "end_time": "2018-11-24T15:14:25.841804Z",
     "start_time": "2018-11-24T15:14:24.525774Z"
    }
   },
   "outputs": [
    {
     "data": {
      "image/png": "[encoded data removed]",
      "text/plain": [
       "<Figure size 432x288 with 1 Axes>"
      ]
     },
     "metadata": {},
     "output_type": "display_data"
    }
   ],
   "source": [
    "plt.figure()\n",
    "plt.plot(negative_disccounts, negative_margins, 'r.')\n",
    "plt.plot(positive_disccounts, positive_margins, 'g.')\n",
    "plt.title('Net margin wrt disccount applied')\n",
    "plt.xlabel('Disccount')\n",
    "plt.xticks([0.8, 0.9, 1])\n",
    "ax = plt.axes()\n",
    "ax.set_xticklabels(['20%', '10%', '0%'])\n",
    "plt.ylabel('Net margin')\n",
    "plt.tight_layout()\n",
    "import time\n",
    "time.sleep(1)\n",
    "# plt.savefig(\"margin_vs_disccount.png\")"
   ]
  }
 ],
 "metadata": {
  "hide_input": false,
  "kernelspec": {
   "display_name": "Python 3",
   "language": "python",
   "name": "python3"
  },
  "language_info": {
   "codemirror_mode": {
    "name": "ipython",
    "version": 3
   },
   "file_extension": ".py",
   "mimetype": "text/x-python",
   "name": "python",
   "nbconvert_exporter": "python",
   "pygments_lexer": "ipython3",
   "version": "3.5.2"
  }
 },
 "nbformat": 4,
 "nbformat_minor": 2
}
